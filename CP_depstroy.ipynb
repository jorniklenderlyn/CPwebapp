{
 "cells": [
  {
   "cell_type": "code",
   "source": [
    "import pandas as pd\n",
    "import numpy as np"
   ],
   "execution_count": 260,
   "outputs": [],
   "metadata": {
    "datalore": {
     "node_id": "6Wzzr6XPMdHtHFmbfsQt0U",
     "type": "CODE",
     "hide_input_from_viewers": true,
     "hide_output_from_viewers": true
    },
    "ExecuteTime": {
     "end_time": "2023-06-25T04:41:42.036311800Z",
     "start_time": "2023-06-25T04:41:42.009797400Z"
    }
   }
  },
  {
   "cell_type": "code",
   "source": [
    "df = pd.read_csv(\"data_mgz_attributes__24062023__1000_GMT3.csv\", delimiter=';')\n",
    "df2 = pd.read_csv('dataset_hackaton_ksg__v2__23062023__1710_GMT3.csv', delimiter=';')"
   ],
   "execution_count": 267,
   "outputs": [
    {
     "name": "stderr",
     "output_type": "stream",
     "text": [
      "C:\\Users\\sokol\\AppData\\Local\\Temp\\ipykernel_9856\\3179656611.py:2: DtypeWarning: Columns (13) have mixed types. Specify dtype option on import or set low_memory=False.\n",
      "  df2 = pd.read_csv('dataset_hackaton_ksg__v2__23062023__1710_GMT3.csv', delimiter=';')\n"
     ]
    }
   ],
   "metadata": {
    "datalore": {
     "node_id": "jS7OpcP6ixcjjt5qUqDmp2",
     "type": "CODE",
     "hide_input_from_viewers": true,
     "hide_output_from_viewers": true
    },
    "ExecuteTime": {
     "end_time": "2023-06-25T04:52:48.463293900Z",
     "start_time": "2023-06-25T04:52:35.872286Z"
    }
   }
  },
  {
   "cell_type": "code",
   "source": [
    "df = df.drop(columns=['Unnamed: 0'])"
   ],
   "execution_count": 269,
   "outputs": [],
   "metadata": {
    "datalore": {
     "node_id": "cLVxSxFIcR8WR20SNhKewx",
     "type": "CODE",
     "hide_input_from_viewers": true,
     "hide_output_from_viewers": true
    },
    "ExecuteTime": {
     "end_time": "2023-06-25T04:53:14.102855200Z",
     "start_time": "2023-06-25T04:53:14.093775700Z"
    }
   }
  },
  {
   "cell_type": "code",
   "source": [
    "df.columns = ['obj_key', 'состояние площадки', 'Площадь', 'Генпроектировщик',\n",
    "       'Генподрядчик', 'Кол-во рабочих', 'date_report']"
   ],
   "execution_count": 270,
   "outputs": [],
   "metadata": {
    "datalore": {
     "node_id": "Iism66zvnh8liOPtN8Ychu",
     "type": "CODE",
     "hide_input_from_viewers": true,
     "hide_output_from_viewers": true
    },
    "ExecuteTime": {
     "end_time": "2023-06-25T04:53:14.930236400Z",
     "start_time": "2023-06-25T04:53:14.894097500Z"
    }
   }
  },
  {
   "cell_type": "code",
   "source": [
    "df = df.drop_duplicates(subset=['obj_key'])"
   ],
   "execution_count": 33,
   "outputs": [],
   "metadata": {
    "datalore": {
     "node_id": "P1ebLFiCi2DAndVArPr9c1",
     "type": "CODE",
     "hide_input_from_viewers": true,
     "hide_output_from_viewers": true
    },
    "ExecuteTime": {
     "end_time": "2023-06-25T02:10:07.120904600Z",
     "start_time": "2023-06-25T02:10:07.077975200Z"
    }
   }
  },
  {
   "cell_type": "code",
   "source": [
    "df3 = pd.merge(df, df2, on='obj_key', how='right')"
   ],
   "execution_count": 242,
   "outputs": [],
   "metadata": {
    "datalore": {
     "node_id": "GYVCUeXBJl6eFmKnmxEMoZ",
     "type": "CODE",
     "hide_input_from_viewers": true,
     "hide_output_from_viewers": true
    },
    "ExecuteTime": {
     "end_time": "2023-06-25T04:08:09.701559500Z",
     "start_time": "2023-06-25T04:08:08.850901Z"
    }
   }
  },
  {
   "cell_type": "code",
   "source": [
    "df3 = df3.drop(columns=['date_report_y', 'НазваниеЗадачи', '№ п/п', 'ПроцентЗавершенияЗадачи', ])\n",
    "df3 = df3[df3['obj_key'].notna()]"
   ],
   "execution_count": 243,
   "outputs": [],
   "metadata": {
    "datalore": {
     "node_id": "Z50aSnEDFI3cRYrO49cKGb",
     "type": "CODE",
     "hide_input_from_viewers": true,
     "hide_output_from_viewers": true
    },
    "ExecuteTime": {
     "end_time": "2023-06-25T04:08:10.688169Z",
     "start_time": "2023-06-25T04:08:10.223508200Z"
    }
   }
  },
  {
   "cell_type": "code",
   "source": [
    "df3"
   ],
   "execution_count": 99,
   "outputs": [
    {
     "data": {
      "text/plain": "          obj_key состояние площадки  Площадь  Генпроектировщик  Генподрядчик  \\\n0        022-0527        Не передана   9850.0               0.0           0.0   \n1        022-0354                NaN  20271.0               0.0           0.0   \n2        022-0513                NaN   6892.0               0.0           0.0   \n3        020-0684             Занята   2488.6               1.0           2.0   \n4        019-0589             Занята   3751.1               1.0           2.0   \n...           ...                ...      ...               ...           ...   \n1060160  023-0135                NaN      NaN               0.0           0.0   \n1060161  021-0049                NaN      NaN               0.0           0.0   \n1060162  021-0050                NaN      NaN               0.0           0.0   \n1060163  022-0707                NaN      NaN               0.0           0.0   \n1060164  022-0630                NaN      NaN               0.0           0.0   \n\n         Кол-во рабочих date_report_x  Unnamed: 0          obj_prg  \\\n0                   NaN    2023.01.20           0      Образование   \n1                   NaN    2023.01.20           1      Образование   \n2                   NaN    2023.01.20           2      Образование   \n3                   NaN    2023.01.20           3      Образование   \n4                   NaN    2023.01.20           4      Образование   \n...                 ...           ...         ...              ...   \n1060160             NaN    2023.03.15       63504  Здравоохранение   \n1060161             NaN    2023.01.20       63505  Здравоохранение   \n1060162             NaN    2023.01.20       63506  Здравоохранение   \n1060163             NaN    2023.01.20       63507  Здравоохранение   \n1060164             NaN    2023.01.20       63508  Здравоохранение   \n\n                             obj_subprg Кодзадачи ДатаНачалаЗадачи  \\\n0        Общеобразовательные учреждения         1       2022-01-14   \n1        Общеобразовательные учреждения         1       2022-12-01   \n2                 Дошкольные учреждения         1       2023-01-23   \n3                 Дошкольные учреждения         1       2020-11-03   \n4                 Дошкольные учреждения         1       2020-11-03   \n...                                 ...       ...              ...   \n1060160                     Поликлиники       NaN              NaN   \n1060161                     Поликлиники       NaN              NaN   \n1060162                     Поликлиники       NaN              NaN   \n1060163                     Поликлиники       NaN              NaN   \n1060164                     Поликлиники       NaN              NaN   \n\n        ДатаОкончанияЗадачи ДатаначалаБП0 ДатаокончанияБП0  \\\n0                2023-03-30           NaN              NaN   \n1                2023-07-27           NaN              NaN   \n2                2023-09-29           NaN              NaN   \n3                2022-02-01    2020-11-03       2021-12-29   \n4                2022-05-16    2020-11-03       2021-12-29   \n...                     ...           ...              ...   \n1060160                 NaN           NaN              NaN   \n1060161                 NaN           NaN              NaN   \n1060162                 NaN           NaN              NaN   \n1060163                 NaN           NaN              NaN   \n1060164                 NaN           NaN              NaN   \n\n         Статуспоэкспертизе Экспертиза  \n0                       NaN        NaN  \n1                       NaN        NaN  \n2                       NaN        NaN  \n3                       NaN        NaN  \n4                       NaN        NaN  \n...                     ...        ...  \n1060160                 NaN        NaN  \n1060161                 NaN        NaN  \n1060162                 NaN        NaN  \n1060163                 NaN        NaN  \n1060164                 NaN        NaN  \n\n[1060164 rows x 17 columns]",
      "text/html": "<div>\n<style scoped>\n    .dataframe tbody tr th:only-of-type {\n        vertical-align: middle;\n    }\n\n    .dataframe tbody tr th {\n        vertical-align: top;\n    }\n\n    .dataframe thead th {\n        text-align: right;\n    }\n</style>\n<table border=\"1\" class=\"dataframe\">\n  <thead>\n    <tr style=\"text-align: right;\">\n      <th></th>\n      <th>obj_key</th>\n      <th>состояние площадки</th>\n      <th>Площадь</th>\n      <th>Генпроектировщик</th>\n      <th>Генподрядчик</th>\n      <th>Кол-во рабочих</th>\n      <th>date_report_x</th>\n      <th>Unnamed: 0</th>\n      <th>obj_prg</th>\n      <th>obj_subprg</th>\n      <th>Кодзадачи</th>\n      <th>ДатаНачалаЗадачи</th>\n      <th>ДатаОкончанияЗадачи</th>\n      <th>ДатаначалаБП0</th>\n      <th>ДатаокончанияБП0</th>\n      <th>Статуспоэкспертизе</th>\n      <th>Экспертиза</th>\n    </tr>\n  </thead>\n  <tbody>\n    <tr>\n      <th>0</th>\n      <td>022-0527</td>\n      <td>Не передана</td>\n      <td>9850.0</td>\n      <td>0.0</td>\n      <td>0.0</td>\n      <td>NaN</td>\n      <td>2023.01.20</td>\n      <td>0</td>\n      <td>Образование</td>\n      <td>Общеобразовательные учреждения</td>\n      <td>1</td>\n      <td>2022-01-14</td>\n      <td>2023-03-30</td>\n      <td>NaN</td>\n      <td>NaN</td>\n      <td>NaN</td>\n      <td>NaN</td>\n    </tr>\n    <tr>\n      <th>1</th>\n      <td>022-0354</td>\n      <td>NaN</td>\n      <td>20271.0</td>\n      <td>0.0</td>\n      <td>0.0</td>\n      <td>NaN</td>\n      <td>2023.01.20</td>\n      <td>1</td>\n      <td>Образование</td>\n      <td>Общеобразовательные учреждения</td>\n      <td>1</td>\n      <td>2022-12-01</td>\n      <td>2023-07-27</td>\n      <td>NaN</td>\n      <td>NaN</td>\n      <td>NaN</td>\n      <td>NaN</td>\n    </tr>\n    <tr>\n      <th>2</th>\n      <td>022-0513</td>\n      <td>NaN</td>\n      <td>6892.0</td>\n      <td>0.0</td>\n      <td>0.0</td>\n      <td>NaN</td>\n      <td>2023.01.20</td>\n      <td>2</td>\n      <td>Образование</td>\n      <td>Дошкольные учреждения</td>\n      <td>1</td>\n      <td>2023-01-23</td>\n      <td>2023-09-29</td>\n      <td>NaN</td>\n      <td>NaN</td>\n      <td>NaN</td>\n      <td>NaN</td>\n    </tr>\n    <tr>\n      <th>3</th>\n      <td>020-0684</td>\n      <td>Занята</td>\n      <td>2488.6</td>\n      <td>1.0</td>\n      <td>2.0</td>\n      <td>NaN</td>\n      <td>2023.01.20</td>\n      <td>3</td>\n      <td>Образование</td>\n      <td>Дошкольные учреждения</td>\n      <td>1</td>\n      <td>2020-11-03</td>\n      <td>2022-02-01</td>\n      <td>2020-11-03</td>\n      <td>2021-12-29</td>\n      <td>NaN</td>\n      <td>NaN</td>\n    </tr>\n    <tr>\n      <th>4</th>\n      <td>019-0589</td>\n      <td>Занята</td>\n      <td>3751.1</td>\n      <td>1.0</td>\n      <td>2.0</td>\n      <td>NaN</td>\n      <td>2023.01.20</td>\n      <td>4</td>\n      <td>Образование</td>\n      <td>Дошкольные учреждения</td>\n      <td>1</td>\n      <td>2020-11-03</td>\n      <td>2022-05-16</td>\n      <td>2020-11-03</td>\n      <td>2021-12-29</td>\n      <td>NaN</td>\n      <td>NaN</td>\n    </tr>\n    <tr>\n      <th>...</th>\n      <td>...</td>\n      <td>...</td>\n      <td>...</td>\n      <td>...</td>\n      <td>...</td>\n      <td>...</td>\n      <td>...</td>\n      <td>...</td>\n      <td>...</td>\n      <td>...</td>\n      <td>...</td>\n      <td>...</td>\n      <td>...</td>\n      <td>...</td>\n      <td>...</td>\n      <td>...</td>\n      <td>...</td>\n    </tr>\n    <tr>\n      <th>1060160</th>\n      <td>023-0135</td>\n      <td>NaN</td>\n      <td>NaN</td>\n      <td>0.0</td>\n      <td>0.0</td>\n      <td>NaN</td>\n      <td>2023.03.15</td>\n      <td>63504</td>\n      <td>Здравоохранение</td>\n      <td>Поликлиники</td>\n      <td>NaN</td>\n      <td>NaN</td>\n      <td>NaN</td>\n      <td>NaN</td>\n      <td>NaN</td>\n      <td>NaN</td>\n      <td>NaN</td>\n    </tr>\n    <tr>\n      <th>1060161</th>\n      <td>021-0049</td>\n      <td>NaN</td>\n      <td>NaN</td>\n      <td>0.0</td>\n      <td>0.0</td>\n      <td>NaN</td>\n      <td>2023.01.20</td>\n      <td>63505</td>\n      <td>Здравоохранение</td>\n      <td>Поликлиники</td>\n      <td>NaN</td>\n      <td>NaN</td>\n      <td>NaN</td>\n      <td>NaN</td>\n      <td>NaN</td>\n      <td>NaN</td>\n      <td>NaN</td>\n    </tr>\n    <tr>\n      <th>1060162</th>\n      <td>021-0050</td>\n      <td>NaN</td>\n      <td>NaN</td>\n      <td>0.0</td>\n      <td>0.0</td>\n      <td>NaN</td>\n      <td>2023.01.20</td>\n      <td>63506</td>\n      <td>Здравоохранение</td>\n      <td>Поликлиники</td>\n      <td>NaN</td>\n      <td>NaN</td>\n      <td>NaN</td>\n      <td>NaN</td>\n      <td>NaN</td>\n      <td>NaN</td>\n      <td>NaN</td>\n    </tr>\n    <tr>\n      <th>1060163</th>\n      <td>022-0707</td>\n      <td>NaN</td>\n      <td>NaN</td>\n      <td>0.0</td>\n      <td>0.0</td>\n      <td>NaN</td>\n      <td>2023.01.20</td>\n      <td>63507</td>\n      <td>Здравоохранение</td>\n      <td>Поликлиники</td>\n      <td>NaN</td>\n      <td>NaN</td>\n      <td>NaN</td>\n      <td>NaN</td>\n      <td>NaN</td>\n      <td>NaN</td>\n      <td>NaN</td>\n    </tr>\n    <tr>\n      <th>1060164</th>\n      <td>022-0630</td>\n      <td>NaN</td>\n      <td>NaN</td>\n      <td>0.0</td>\n      <td>0.0</td>\n      <td>NaN</td>\n      <td>2023.01.20</td>\n      <td>63508</td>\n      <td>Здравоохранение</td>\n      <td>Поликлиники</td>\n      <td>NaN</td>\n      <td>NaN</td>\n      <td>NaN</td>\n      <td>NaN</td>\n      <td>NaN</td>\n      <td>NaN</td>\n      <td>NaN</td>\n    </tr>\n  </tbody>\n</table>\n<p>1060164 rows × 17 columns</p>\n</div>"
     },
     "execution_count": 99,
     "metadata": {},
     "output_type": "execute_result"
    }
   ],
   "metadata": {
    "datalore": {
     "node_id": "DKXKJ0q1TklsGDPhzXcfIH",
     "type": "CODE",
     "hide_input_from_viewers": true,
     "hide_output_from_viewers": true
    },
    "ExecuteTime": {
     "end_time": "2023-06-25T02:46:03.366434300Z",
     "start_time": "2023-06-25T02:46:03.269617800Z"
    }
   }
  },
  {
   "cell_type": "code",
   "source": [
    "df3['step'] = df3['obj_key'] + df3['Кодзадачи'].astype('str').apply(lambda x: x.split('.')[0] + x.split('.')[1] if x.count('.') >= 1 else x)\n",
    "df3['ДатаНачалаЗадачи'] = pd.to_datetime(df3['ДатаНачалаЗадачи'], format=\"%Y-%m-%d\")\n",
    "df3['ДатаОкончанияЗадачи'] = pd.to_datetime(df3['ДатаОкончанияЗадачи'], format=\"%Y-%m-%d\")\n",
    "df3['time'] = (df3['ДатаОкончанияЗадачи'] - df3['ДатаНачалаЗадачи']).dt.days\n",
    "df3['agreement'] = df3['ДатаначалаБП0'].isna()\n",
    "df3['exp'] = df3['Экспертиза'].fillna('exp_none')\n",
    "df3['year'] = df3['obj_key'].astype('str').apply(lambda x: 'year_' + x.split('-')[0])"
   ],
   "execution_count": 244,
   "outputs": [],
   "metadata": {
    "datalore": {
     "node_id": "otnVjiDGR05Jj2MEXSe3Gu",
     "type": "CODE",
     "hide_input_from_viewers": true,
     "hide_output_from_viewers": true
    },
    "ExecuteTime": {
     "end_time": "2023-06-25T04:08:21.759459100Z",
     "start_time": "2023-06-25T04:08:19.165409300Z"
    }
   }
  },
  {
   "cell_type": "code",
   "source": [
    "df3 = df3.drop(columns=['date_report_x', 'Unnamed: 0', 'Статуспоэкспертизе', 'ДатаначалаБП0', 'ДатаокончанияБП0', 'ДатаНачалаЗадачи', 'ДатаОкончанияЗадачи'])"
   ],
   "execution_count": 245,
   "outputs": [],
   "metadata": {
    "datalore": {
     "node_id": "VVBG5csty7R8vLo9FvXo1Y",
     "type": "CODE",
     "hide_input_from_viewers": true,
     "hide_output_from_viewers": true
    },
    "ExecuteTime": {
     "end_time": "2023-06-25T04:08:21.925176200Z",
     "start_time": "2023-06-25T04:08:21.749844600Z"
    }
   }
  },
  {
   "cell_type": "code",
   "source": [
    "df3['Генпроектировщик'] = df3['Генпроектировщик'].apply(lambda x: 'GPR_' + str(x))\n",
    "df3['Генподрядчик'] = df3['Генподрядчик'].apply(lambda x: 'GPD_' + str(x))\n",
    "# df3['task'] = df3['Кодзадачи'].astype('str').apply(lambda x: x.split('.')[0] + x.split('.')[1] if x.count('.') >= 1 else x)\n",
    "df3['task'] = df3['Кодзадачи'].astype('str')"
   ],
   "execution_count": 246,
   "outputs": [],
   "metadata": {
    "datalore": {
     "node_id": "heax7LkAemhZdDVgUhsD2P",
     "type": "CODE",
     "hide_input_from_viewers": true,
     "hide_output_from_viewers": true
    },
    "ExecuteTime": {
     "end_time": "2023-06-25T04:08:23.336519100Z",
     "start_time": "2023-06-25T04:08:21.940700300Z"
    }
   }
  },
  {
   "cell_type": "code",
   "execution_count": 249,
   "outputs": [
    {
     "data": {
      "text/plain": "         Площадь Генпроектировщик Генподрядчик  Кол-во рабочих  \\\n0         9850.0          GPR_0.0      GPD_0.0      109.604173   \n1        20271.0          GPR_0.0      GPD_0.0      109.604173   \n2         6892.0          GPR_0.0      GPD_0.0      109.604173   \n3         2488.6          GPR_1.0      GPD_2.0      109.604173   \n4         3751.1          GPR_1.0      GPD_2.0      109.604173   \n...          ...              ...          ...             ...   \n1060148  13260.0          GPR_0.0      GPD_0.0      109.604173   \n1060149   9850.0          GPR_0.0      GPD_0.0      109.604173   \n1060150  18100.0          GPR_0.0      GPD_0.0      109.604173   \n1060151  20271.0          GPR_0.0      GPD_0.0      109.604173   \n1060152   5429.0         GPR_31.0     GPD_19.0        3.000000   \n\n                 obj_prg                      obj_subprg        step   time  \\\n0            Образование  Общеобразовательные учреждения   022-05271  440.0   \n1            Образование  Общеобразовательные учреждения   022-03541  238.0   \n2            Образование           Дошкольные учреждения   022-05131  249.0   \n3            Образование           Дошкольные учреждения   020-06841  455.0   \n4            Образование           Дошкольные учреждения   019-05891  559.0   \n...                  ...                             ...         ...    ...   \n1060148      Образование  Общеобразовательные учреждения  022-052296    0.0   \n1060149      Образование  Общеобразовательные учреждения  022-052796    0.0   \n1060150      Образование  Общеобразовательные учреждения  022-052696    0.0   \n1060151      Образование  Общеобразовательные учреждения  022-035496    0.0   \n1060152  Здравоохранение                     Поликлиники  019-047696    0.0   \n\n         agreement       exp      year   task  \n0             True  exp_none  year_022      1  \n1             True  exp_none  year_022      1  \n2             True  exp_none  year_022      1  \n3            False  exp_none  year_020      1  \n4            False  exp_none  year_019      1  \n...            ...       ...       ...    ...  \n1060148      False  exp_none  year_022  9.6.2  \n1060149      False  exp_none  year_022  9.6.2  \n1060150      False  exp_none  year_022  9.6.2  \n1060151      False  exp_none  year_022  9.6.2  \n1060152       True  exp_none  year_019  9.6.2  \n\n[994880 rows x 12 columns]",
      "text/html": "<div>\n<style scoped>\n    .dataframe tbody tr th:only-of-type {\n        vertical-align: middle;\n    }\n\n    .dataframe tbody tr th {\n        vertical-align: top;\n    }\n\n    .dataframe thead th {\n        text-align: right;\n    }\n</style>\n<table border=\"1\" class=\"dataframe\">\n  <thead>\n    <tr style=\"text-align: right;\">\n      <th></th>\n      <th>Площадь</th>\n      <th>Генпроектировщик</th>\n      <th>Генподрядчик</th>\n      <th>Кол-во рабочих</th>\n      <th>obj_prg</th>\n      <th>obj_subprg</th>\n      <th>step</th>\n      <th>time</th>\n      <th>agreement</th>\n      <th>exp</th>\n      <th>year</th>\n      <th>task</th>\n    </tr>\n  </thead>\n  <tbody>\n    <tr>\n      <th>0</th>\n      <td>9850.0</td>\n      <td>GPR_0.0</td>\n      <td>GPD_0.0</td>\n      <td>109.604173</td>\n      <td>Образование</td>\n      <td>Общеобразовательные учреждения</td>\n      <td>022-05271</td>\n      <td>440.0</td>\n      <td>True</td>\n      <td>exp_none</td>\n      <td>year_022</td>\n      <td>1</td>\n    </tr>\n    <tr>\n      <th>1</th>\n      <td>20271.0</td>\n      <td>GPR_0.0</td>\n      <td>GPD_0.0</td>\n      <td>109.604173</td>\n      <td>Образование</td>\n      <td>Общеобразовательные учреждения</td>\n      <td>022-03541</td>\n      <td>238.0</td>\n      <td>True</td>\n      <td>exp_none</td>\n      <td>year_022</td>\n      <td>1</td>\n    </tr>\n    <tr>\n      <th>2</th>\n      <td>6892.0</td>\n      <td>GPR_0.0</td>\n      <td>GPD_0.0</td>\n      <td>109.604173</td>\n      <td>Образование</td>\n      <td>Дошкольные учреждения</td>\n      <td>022-05131</td>\n      <td>249.0</td>\n      <td>True</td>\n      <td>exp_none</td>\n      <td>year_022</td>\n      <td>1</td>\n    </tr>\n    <tr>\n      <th>3</th>\n      <td>2488.6</td>\n      <td>GPR_1.0</td>\n      <td>GPD_2.0</td>\n      <td>109.604173</td>\n      <td>Образование</td>\n      <td>Дошкольные учреждения</td>\n      <td>020-06841</td>\n      <td>455.0</td>\n      <td>False</td>\n      <td>exp_none</td>\n      <td>year_020</td>\n      <td>1</td>\n    </tr>\n    <tr>\n      <th>4</th>\n      <td>3751.1</td>\n      <td>GPR_1.0</td>\n      <td>GPD_2.0</td>\n      <td>109.604173</td>\n      <td>Образование</td>\n      <td>Дошкольные учреждения</td>\n      <td>019-05891</td>\n      <td>559.0</td>\n      <td>False</td>\n      <td>exp_none</td>\n      <td>year_019</td>\n      <td>1</td>\n    </tr>\n    <tr>\n      <th>...</th>\n      <td>...</td>\n      <td>...</td>\n      <td>...</td>\n      <td>...</td>\n      <td>...</td>\n      <td>...</td>\n      <td>...</td>\n      <td>...</td>\n      <td>...</td>\n      <td>...</td>\n      <td>...</td>\n      <td>...</td>\n    </tr>\n    <tr>\n      <th>1060148</th>\n      <td>13260.0</td>\n      <td>GPR_0.0</td>\n      <td>GPD_0.0</td>\n      <td>109.604173</td>\n      <td>Образование</td>\n      <td>Общеобразовательные учреждения</td>\n      <td>022-052296</td>\n      <td>0.0</td>\n      <td>False</td>\n      <td>exp_none</td>\n      <td>year_022</td>\n      <td>9.6.2</td>\n    </tr>\n    <tr>\n      <th>1060149</th>\n      <td>9850.0</td>\n      <td>GPR_0.0</td>\n      <td>GPD_0.0</td>\n      <td>109.604173</td>\n      <td>Образование</td>\n      <td>Общеобразовательные учреждения</td>\n      <td>022-052796</td>\n      <td>0.0</td>\n      <td>False</td>\n      <td>exp_none</td>\n      <td>year_022</td>\n      <td>9.6.2</td>\n    </tr>\n    <tr>\n      <th>1060150</th>\n      <td>18100.0</td>\n      <td>GPR_0.0</td>\n      <td>GPD_0.0</td>\n      <td>109.604173</td>\n      <td>Образование</td>\n      <td>Общеобразовательные учреждения</td>\n      <td>022-052696</td>\n      <td>0.0</td>\n      <td>False</td>\n      <td>exp_none</td>\n      <td>year_022</td>\n      <td>9.6.2</td>\n    </tr>\n    <tr>\n      <th>1060151</th>\n      <td>20271.0</td>\n      <td>GPR_0.0</td>\n      <td>GPD_0.0</td>\n      <td>109.604173</td>\n      <td>Образование</td>\n      <td>Общеобразовательные учреждения</td>\n      <td>022-035496</td>\n      <td>0.0</td>\n      <td>False</td>\n      <td>exp_none</td>\n      <td>year_022</td>\n      <td>9.6.2</td>\n    </tr>\n    <tr>\n      <th>1060152</th>\n      <td>5429.0</td>\n      <td>GPR_31.0</td>\n      <td>GPD_19.0</td>\n      <td>3.000000</td>\n      <td>Здравоохранение</td>\n      <td>Поликлиники</td>\n      <td>019-047696</td>\n      <td>0.0</td>\n      <td>True</td>\n      <td>exp_none</td>\n      <td>year_019</td>\n      <td>9.6.2</td>\n    </tr>\n  </tbody>\n</table>\n<p>994880 rows × 12 columns</p>\n</div>"
     },
     "execution_count": 249,
     "metadata": {},
     "output_type": "execute_result"
    }
   ],
   "source": [
    "df3"
   ],
   "metadata": {
    "collapsed": false,
    "ExecuteTime": {
     "end_time": "2023-06-25T04:09:47.860509700Z",
     "start_time": "2023-06-25T04:09:47.759836900Z"
    }
   }
  },
  {
   "cell_type": "code",
   "source": [
    "df3 = df3.join(pd.get_dummies(df3['Генпроектировщик'])).join(pd.get_dummies(df3['Генподрядчик'])).join(pd.get_dummies(df3['obj_subprg'])).join(pd.get_dummies(df3['task'])).join(pd.get_dummies(df3['exp'])).join(pd.get_dummies(df3['obj_prg']))\n",
    "df3 = df3.join(pd.get_dummies(df3['year']))\n",
    "df3 = df3.drop(columns=['состояние площадки', 'Генпроектировщик', 'Экспертиза', 'exp', 'Генподрядчик', 'obj_subprg', 'Кодзадачи', 'obj_key', 'obj_prg', 'task', 'year'])\n",
    "# .join(pd.get_dummies(df3['состояние площадки']))"
   ],
   "execution_count": 201,
   "outputs": [],
   "metadata": {
    "datalore": {
     "node_id": "1W7EXsNFW9CEyVxw5fFoMZ",
     "type": "CODE",
     "hide_input_from_viewers": true,
     "hide_output_from_viewers": true
    },
    "ExecuteTime": {
     "end_time": "2023-06-25T03:59:03.801652500Z",
     "start_time": "2023-06-25T03:58:52.249227300Z"
    }
   }
  },
  {
   "cell_type": "code",
   "execution_count": 247,
   "outputs": [],
   "source": [
    "df3 = df3.drop(columns=['состояние площадки', 'Экспертиза', 'obj_key', 'Кодзадачи'])\n",
    "# .join(pd.get_dummies(df3['состояние площадки']))"
   ],
   "metadata": {
    "collapsed": false,
    "ExecuteTime": {
     "end_time": "2023-06-25T04:09:41.540463600Z",
     "start_time": "2023-06-25T04:09:41.344655900Z"
    }
   }
  },
  {
   "cell_type": "code",
   "source": [
    "df3['Кол-во рабочих'] = df3['Кол-во рабочих'].fillna(df3['Кол-во рабочих'].mean())\n",
    "df3 = df3.dropna()"
   ],
   "execution_count": 248,
   "outputs": [],
   "metadata": {
    "datalore": {
     "node_id": "yTBOujixHKPJO2gj3XeOeI",
     "type": "CODE",
     "hide_input_from_viewers": true,
     "hide_output_from_viewers": true
    },
    "ExecuteTime": {
     "end_time": "2023-06-25T04:09:44.147254Z",
     "start_time": "2023-06-25T04:09:43.350865700Z"
    }
   }
  },
  {
   "cell_type": "code",
   "source": [
    "from sklearn.model_selection import train_test_split\n",
    "from sklearn.metrics import accuracy_score, f1_score"
   ],
   "execution_count": 250,
   "outputs": [],
   "metadata": {
    "datalore": {
     "node_id": "tqvG5rYzdqZACJ0JyyScGv",
     "type": "CODE",
     "hide_input_from_viewers": true,
     "hide_output_from_viewers": true
    },
    "ExecuteTime": {
     "end_time": "2023-06-25T04:09:56.201747800Z",
     "start_time": "2023-06-25T04:09:56.182768100Z"
    }
   }
  },
  {
   "cell_type": "code",
   "source": [
    "features = df3.drop(columns=['time', 'step'])\n",
    "Time = df3['time']"
   ],
   "execution_count": 251,
   "outputs": [],
   "metadata": {
    "datalore": {
     "node_id": "cP7Cu04aTpq2yCbMeDFaXA",
     "type": "CODE",
     "hide_input_from_viewers": true,
     "hide_output_from_viewers": true
    },
    "ExecuteTime": {
     "end_time": "2023-06-25T04:09:57.056558900Z",
     "start_time": "2023-06-25T04:09:56.894361400Z"
    }
   }
  },
  {
   "cell_type": "code",
   "source": [
    "df3.columns"
   ],
   "execution_count": 252,
   "outputs": [
    {
     "data": {
      "text/plain": "Index(['Площадь', 'Генпроектировщик', 'Генподрядчик', 'Кол-во рабочих',\n       'obj_prg', 'obj_subprg', 'step', 'time', 'agreement', 'exp', 'year',\n       'task'],\n      dtype='object')"
     },
     "execution_count": 252,
     "metadata": {},
     "output_type": "execute_result"
    }
   ],
   "metadata": {
    "datalore": {
     "node_id": "JBfx8DVYGJEdFiiXvsX9gI",
     "type": "CODE",
     "hide_input_from_viewers": true,
     "hide_output_from_viewers": true
    },
    "ExecuteTime": {
     "end_time": "2023-06-25T04:09:57.802976200Z",
     "start_time": "2023-06-25T04:09:57.795935700Z"
    }
   }
  },
  {
   "cell_type": "code",
   "source": [
    "x_train, x_test, y_train, y_test = train_test_split(features, Time, train_size=0.9, random_state=2)"
   ],
   "execution_count": 253,
   "outputs": [],
   "metadata": {
    "datalore": {
     "node_id": "dlb1fLfypcQ2Ps2b4CNFSn",
     "type": "CODE",
     "hide_input_from_viewers": true,
     "hide_output_from_viewers": true
    },
    "ExecuteTime": {
     "end_time": "2023-06-25T04:10:01.685372600Z",
     "start_time": "2023-06-25T04:10:00.215679200Z"
    }
   }
  },
  {
   "cell_type": "code",
   "source": [
    "from sklearn.linear_model import LinearRegression\n",
    "\n",
    "regr = LinearRegression().fit(x_train, y_train)"
   ],
   "execution_count": 95,
   "outputs": [],
   "metadata": {
    "datalore": {
     "node_id": "IefdSqbzKeQ5MW2SR9YSc5",
     "type": "CODE",
     "hide_input_from_viewers": true,
     "hide_output_from_viewers": true
    },
    "ExecuteTime": {
     "end_time": "2023-06-25T02:44:09.619271400Z",
     "start_time": "2023-06-25T02:42:59.414934400Z"
    }
   }
  },
  {
   "cell_type": "code",
   "source": [
    "from sklearn.metrics import mean_squared_error, mean_absolute_error\n",
    "\n",
    "mean_absolute_error(y_test, regr.predict(x_test))"
   ],
   "execution_count": 96,
   "outputs": [
    {
     "data": {
      "text/plain": "62.37378870607145"
     },
     "execution_count": 96,
     "metadata": {},
     "output_type": "execute_result"
    }
   ],
   "metadata": {
    "datalore": {
     "node_id": "VYDCO38PcaHWC1JsdVSa6z",
     "type": "CODE",
     "hide_input_from_viewers": true,
     "hide_output_from_viewers": true
    },
    "ExecuteTime": {
     "end_time": "2023-06-25T02:44:28.336510200Z",
     "start_time": "2023-06-25T02:44:27.920182800Z"
    }
   }
  },
  {
   "cell_type": "code",
   "source": [
    "# import autokeras\n",
    "# model = autokeras.StructuredDataRegressor(max_trials=4,)\n",
    "# model.fit(x_train, y_train, validation_data=(x_test, y_test))"
   ],
   "execution_count": 50,
   "outputs": [],
   "metadata": {
    "datalore": {
     "node_id": "Bh0lYLHnLvnE4lzxh7b0Nz",
     "type": "CODE",
     "hide_input_from_viewers": true,
     "hide_output_from_viewers": true
    },
    "ExecuteTime": {
     "end_time": "2023-06-25T02:13:45.853064100Z",
     "start_time": "2023-06-25T02:13:45.842523Z"
    }
   }
  },
  {
   "cell_type": "code",
   "execution_count": 236,
   "outputs": [
    {
     "data": {
      "text/plain": "         Площадь Генпроектировщик Генподрядчик  Кол-во рабочих  \\\n385576   6848.84         GPR_27.0      GPD_1.0       98.000000   \n525155  16484.00          GPR_8.0      GPD_5.0      109.604173   \n512367  11507.82         GPR_14.0     GPD_10.0        0.000000   \n432460  17488.00          GPR_1.0      GPD_2.0      109.604173   \n632616   4624.30         GPR_10.0      GPD_8.0       20.000000   \n...          ...              ...          ...             ...   \n252512   7515.86         GPR_27.0      GPD_1.0       33.000000   \n557490   1977.50          GPR_2.0      GPD_0.0      109.604173   \n961800  11410.00         GPR_11.0      GPD_7.0       65.000000   \n203246   9850.00          GPR_0.0      GPD_0.0      109.604173   \n100880   6291.00         GPR_29.0     GPD_20.0      122.000000   \n\n                obj_prg                      obj_subprg  agreement       exp  \\\n385576      Образование  Общеобразовательные учреждения      False  exp_none   \n525155      Образование  Общеобразовательные учреждения      False  exp_none   \n512367  Здравоохранение                     Поликлиники      False  exp_none   \n432460      Образование  Общеобразовательные учреждения      False  exp_none   \n632616  Здравоохранение                     Поликлиники      False  exp_none   \n...                 ...                             ...        ...       ...   \n252512      Образование  Общеобразовательные учреждения      False  exp_none   \n557490      Образование           Дошкольные учреждения      False  exp_none   \n961800      Образование  Общеобразовательные учреждения      False  exp_none   \n203246      Образование  Общеобразовательные учреждения       True  exp_none   \n100880      Образование  Общеобразовательные учреждения      False  exp_none   \n\n            year        task  \n385576  year_020    3.15.7.3  \n525155  year_020  5.2.7.2.12  \n512367  year_019       4.5.2  \n432460  year_019    3.12.2.1  \n632616  year_019       4.9.0  \n...          ...         ...  \n252512  year_020    7.1.1.71  \n557490  year_021   3.5.2.3.2  \n961800  year_019   3.15.6.16  \n203246  year_022       1.2.1  \n100880  year_019    10.2.2.8  \n\n[954147 rows x 10 columns]",
      "text/html": "<div>\n<style scoped>\n    .dataframe tbody tr th:only-of-type {\n        vertical-align: middle;\n    }\n\n    .dataframe tbody tr th {\n        vertical-align: top;\n    }\n\n    .dataframe thead th {\n        text-align: right;\n    }\n</style>\n<table border=\"1\" class=\"dataframe\">\n  <thead>\n    <tr style=\"text-align: right;\">\n      <th></th>\n      <th>Площадь</th>\n      <th>Генпроектировщик</th>\n      <th>Генподрядчик</th>\n      <th>Кол-во рабочих</th>\n      <th>obj_prg</th>\n      <th>obj_subprg</th>\n      <th>agreement</th>\n      <th>exp</th>\n      <th>year</th>\n      <th>task</th>\n    </tr>\n  </thead>\n  <tbody>\n    <tr>\n      <th>385576</th>\n      <td>6848.84</td>\n      <td>GPR_27.0</td>\n      <td>GPD_1.0</td>\n      <td>98.000000</td>\n      <td>Образование</td>\n      <td>Общеобразовательные учреждения</td>\n      <td>False</td>\n      <td>exp_none</td>\n      <td>year_020</td>\n      <td>3.15.7.3</td>\n    </tr>\n    <tr>\n      <th>525155</th>\n      <td>16484.00</td>\n      <td>GPR_8.0</td>\n      <td>GPD_5.0</td>\n      <td>109.604173</td>\n      <td>Образование</td>\n      <td>Общеобразовательные учреждения</td>\n      <td>False</td>\n      <td>exp_none</td>\n      <td>year_020</td>\n      <td>5.2.7.2.12</td>\n    </tr>\n    <tr>\n      <th>512367</th>\n      <td>11507.82</td>\n      <td>GPR_14.0</td>\n      <td>GPD_10.0</td>\n      <td>0.000000</td>\n      <td>Здравоохранение</td>\n      <td>Поликлиники</td>\n      <td>False</td>\n      <td>exp_none</td>\n      <td>year_019</td>\n      <td>4.5.2</td>\n    </tr>\n    <tr>\n      <th>432460</th>\n      <td>17488.00</td>\n      <td>GPR_1.0</td>\n      <td>GPD_2.0</td>\n      <td>109.604173</td>\n      <td>Образование</td>\n      <td>Общеобразовательные учреждения</td>\n      <td>False</td>\n      <td>exp_none</td>\n      <td>year_019</td>\n      <td>3.12.2.1</td>\n    </tr>\n    <tr>\n      <th>632616</th>\n      <td>4624.30</td>\n      <td>GPR_10.0</td>\n      <td>GPD_8.0</td>\n      <td>20.000000</td>\n      <td>Здравоохранение</td>\n      <td>Поликлиники</td>\n      <td>False</td>\n      <td>exp_none</td>\n      <td>year_019</td>\n      <td>4.9.0</td>\n    </tr>\n    <tr>\n      <th>...</th>\n      <td>...</td>\n      <td>...</td>\n      <td>...</td>\n      <td>...</td>\n      <td>...</td>\n      <td>...</td>\n      <td>...</td>\n      <td>...</td>\n      <td>...</td>\n      <td>...</td>\n    </tr>\n    <tr>\n      <th>252512</th>\n      <td>7515.86</td>\n      <td>GPR_27.0</td>\n      <td>GPD_1.0</td>\n      <td>33.000000</td>\n      <td>Образование</td>\n      <td>Общеобразовательные учреждения</td>\n      <td>False</td>\n      <td>exp_none</td>\n      <td>year_020</td>\n      <td>7.1.1.71</td>\n    </tr>\n    <tr>\n      <th>557490</th>\n      <td>1977.50</td>\n      <td>GPR_2.0</td>\n      <td>GPD_0.0</td>\n      <td>109.604173</td>\n      <td>Образование</td>\n      <td>Дошкольные учреждения</td>\n      <td>False</td>\n      <td>exp_none</td>\n      <td>year_021</td>\n      <td>3.5.2.3.2</td>\n    </tr>\n    <tr>\n      <th>961800</th>\n      <td>11410.00</td>\n      <td>GPR_11.0</td>\n      <td>GPD_7.0</td>\n      <td>65.000000</td>\n      <td>Образование</td>\n      <td>Общеобразовательные учреждения</td>\n      <td>False</td>\n      <td>exp_none</td>\n      <td>year_019</td>\n      <td>3.15.6.16</td>\n    </tr>\n    <tr>\n      <th>203246</th>\n      <td>9850.00</td>\n      <td>GPR_0.0</td>\n      <td>GPD_0.0</td>\n      <td>109.604173</td>\n      <td>Образование</td>\n      <td>Общеобразовательные учреждения</td>\n      <td>True</td>\n      <td>exp_none</td>\n      <td>year_022</td>\n      <td>1.2.1</td>\n    </tr>\n    <tr>\n      <th>100880</th>\n      <td>6291.00</td>\n      <td>GPR_29.0</td>\n      <td>GPD_20.0</td>\n      <td>122.000000</td>\n      <td>Образование</td>\n      <td>Общеобразовательные учреждения</td>\n      <td>False</td>\n      <td>exp_none</td>\n      <td>year_019</td>\n      <td>10.2.2.8</td>\n    </tr>\n  </tbody>\n</table>\n<p>954147 rows × 10 columns</p>\n</div>"
     },
     "execution_count": 236,
     "metadata": {},
     "output_type": "execute_result"
    }
   ],
   "source": [
    "x_train"
   ],
   "metadata": {
    "collapsed": false,
    "ExecuteTime": {
     "end_time": "2023-06-25T04:05:52.888407800Z",
     "start_time": "2023-06-25T04:05:52.609238300Z"
    }
   }
  },
  {
   "cell_type": "code",
   "execution_count": 109,
   "outputs": [],
   "source": [
    "import keras"
   ],
   "metadata": {
    "collapsed": false,
    "ExecuteTime": {
     "end_time": "2023-06-25T02:46:44.045914Z",
     "start_time": "2023-06-25T02:46:44.040657800Z"
    }
   }
  },
  {
   "cell_type": "code",
   "execution_count": 254,
   "outputs": [],
   "source": [
    "from sklearn.metrics import mean_absolute_error"
   ],
   "metadata": {
    "collapsed": false,
    "ExecuteTime": {
     "end_time": "2023-06-25T04:10:05.286223600Z",
     "start_time": "2023-06-25T04:10:05.283214100Z"
    }
   }
  },
  {
   "cell_type": "code",
   "execution_count": 255,
   "outputs": [],
   "source": [
    "from catboost import CatBoostRegressor\n",
    "cat = CatBoostRegressor(iterations=800,\n",
    "                          loss_function='MAE',\n",
    "                          eval_metric='MAE',\n",
    "                          metric_period=50,\n",
    "                        cat_features=['Генпроектировщик', 'Генподрядчик',\n",
    "       'obj_prg', 'obj_subprg', 'agreement', 'exp', 'year', 'task']\n",
    "                         )"
   ],
   "metadata": {
    "collapsed": false,
    "ExecuteTime": {
     "end_time": "2023-06-25T04:10:06.120877Z",
     "start_time": "2023-06-25T04:10:06.109391200Z"
    }
   }
  },
  {
   "cell_type": "code",
   "execution_count": 256,
   "outputs": [
    {
     "data": {
      "text/plain": "<catboost.core.CatBoostRegressor at 0x1848cf233d0>"
     },
     "execution_count": 256,
     "metadata": {},
     "output_type": "execute_result"
    }
   ],
   "source": [
    "cat.fit(x_train,y_train,verbose=False, plot=False)"
   ],
   "metadata": {
    "collapsed": false,
    "ExecuteTime": {
     "end_time": "2023-06-25T04:16:13.473056400Z",
     "start_time": "2023-06-25T04:10:09.146366300Z"
    }
   }
  },
  {
   "cell_type": "code",
   "execution_count": 282,
   "outputs": [
    {
     "data": {
      "text/plain": "44.39719663559547"
     },
     "execution_count": 282,
     "metadata": {},
     "output_type": "execute_result"
    }
   ],
   "source": [
    "mean_absolute_error(y_test, cat.predict(x_test))"
   ],
   "metadata": {
    "collapsed": false,
    "ExecuteTime": {
     "end_time": "2023-06-25T05:00:12.524058100Z",
     "start_time": "2023-06-25T05:00:05.194459300Z"
    }
   }
  },
  {
   "cell_type": "code",
   "execution_count": 258,
   "outputs": [
    {
     "data": {
      "text/plain": "array([-2.02096228e-07,  1.01621764e+02,  9.00363810e-02, ...,\n        1.01013565e+02,  6.53401805e+01,  5.82746145e+01])"
     },
     "execution_count": 258,
     "metadata": {},
     "output_type": "execute_result"
    }
   ],
   "source": [
    "cat.predict(x_test)"
   ],
   "metadata": {
    "collapsed": false,
    "ExecuteTime": {
     "end_time": "2023-06-25T04:17:26.019887600Z",
     "start_time": "2023-06-25T04:17:24.883160700Z"
    }
   }
  },
  {
   "cell_type": "code",
   "execution_count": 280,
   "outputs": [],
   "source": [
    "cat.save_model('model', 'cbm')"
   ],
   "metadata": {
    "collapsed": false,
    "ExecuteTime": {
     "end_time": "2023-06-25T04:59:58.499916Z",
     "start_time": "2023-06-25T04:59:57.242854800Z"
    }
   }
  },
  {
   "cell_type": "code",
   "execution_count": 262,
   "outputs": [],
   "source": [
    "test = pd.read_excel('Тест.xlsx')"
   ],
   "metadata": {
    "collapsed": false,
    "ExecuteTime": {
     "end_time": "2023-06-25T04:45:18.044729200Z",
     "start_time": "2023-06-25T04:43:25.699678300Z"
    }
   }
  },
  {
   "cell_type": "code",
   "execution_count": 297,
   "outputs": [
    {
     "data": {
      "text/plain": "Index(['№ п/п', 'obj_prg', 'obj_subprg', 'obj_key', 'obj_shortName',\n       'Кодзадачи', 'НазваниеЗадачи', 'ПроцентЗавершенияЗадачи',\n       'ДатаНачалаЗадачи', 'ДатаОкончанияЗадачи', 'ДатаначалаБП0',\n       'ДатаокончанияБП0', 'Статуспоэкспертизе', 'Экспертиза'],\n      dtype='object')"
     },
     "execution_count": 297,
     "metadata": {},
     "output_type": "execute_result"
    }
   ],
   "source": [
    " test.columns"
   ],
   "metadata": {
    "collapsed": false,
    "ExecuteTime": {
     "end_time": "2023-06-25T05:34:35.933642200Z",
     "start_time": "2023-06-25T05:34:35.785006300Z"
    }
   }
  },
  {
   "cell_type": "code",
   "execution_count": 313,
   "outputs": [
    {
     "data": {
      "text/plain": "       № п/п          obj_prg                      obj_subprg   obj_key  \\\n0         36      Образование           Дошкольные учреждения  020-0684   \n1         35      Образование           Дошкольные учреждения  019-0589   \n2         61      Образование  Общеобразовательные учреждения  019-0594   \n3         89         Культура               Культурные центры  021-0458   \n4         34      Образование           Дошкольные учреждения  017-0520   \n...      ...              ...                             ...       ...   \n64659     21  Здравоохранение                     Поликлиники  023-0135   \n64660     28  Здравоохранение                     Поликлиники  021-0049   \n64661     29  Здравоохранение                     Поликлиники  021-0050   \n64662     31  Здравоохранение                     Поликлиники  022-0707   \n64663     33  Здравоохранение                     Поликлиники  022-0630   \n\n      Кодзадачи ДатаНачалаЗадачи ДатаОкончанияЗадачи ДатаначалаБП0  \\\n0             1       2020-11-03          2022-02-01    2020-11-03   \n1             1       2020-11-03          2022-05-16    2020-11-03   \n2             1       2021-05-04          2021-12-15    2021-05-04   \n3             1       2021-10-12          2023-05-29    2021-10-12   \n4             1       2018-11-01          2022-02-15    2018-11-01   \n...         ...              ...                 ...           ...   \n64659       NaN              NaT                 NaT           NaT   \n64660       NaN              NaT                 NaT           NaT   \n64661       NaN              NaT                 NaT           NaT   \n64662       NaN              NaT                 NaT           NaT   \n64663       NaN              NaT                 NaT           NaT   \n\n      ДатаокончанияБП0  Статуспоэкспертизе Экспертиза  \n0           2021-12-29                 NaN        NaN  \n1           2021-12-29                 NaN        NaN  \n2           2021-12-15                 NaN        NaN  \n3           2023-05-12                 NaN        NaN  \n4           2022-02-15                 NaN        NaN  \n...                ...                 ...        ...  \n64659              NaT                 NaN        NaN  \n64660              NaT                 NaN        NaN  \n64661              NaT                 NaN        NaN  \n64662              NaT                 NaN        NaN  \n64663              NaT                 NaN        NaN  \n\n[64664 rows x 11 columns]",
      "text/html": "<div>\n<style scoped>\n    .dataframe tbody tr th:only-of-type {\n        vertical-align: middle;\n    }\n\n    .dataframe tbody tr th {\n        vertical-align: top;\n    }\n\n    .dataframe thead th {\n        text-align: right;\n    }\n</style>\n<table border=\"1\" class=\"dataframe\">\n  <thead>\n    <tr style=\"text-align: right;\">\n      <th></th>\n      <th>№ п/п</th>\n      <th>obj_prg</th>\n      <th>obj_subprg</th>\n      <th>obj_key</th>\n      <th>Кодзадачи</th>\n      <th>ДатаНачалаЗадачи</th>\n      <th>ДатаОкончанияЗадачи</th>\n      <th>ДатаначалаБП0</th>\n      <th>ДатаокончанияБП0</th>\n      <th>Статуспоэкспертизе</th>\n      <th>Экспертиза</th>\n    </tr>\n  </thead>\n  <tbody>\n    <tr>\n      <th>0</th>\n      <td>36</td>\n      <td>Образование</td>\n      <td>Дошкольные учреждения</td>\n      <td>020-0684</td>\n      <td>1</td>\n      <td>2020-11-03</td>\n      <td>2022-02-01</td>\n      <td>2020-11-03</td>\n      <td>2021-12-29</td>\n      <td>NaN</td>\n      <td>NaN</td>\n    </tr>\n    <tr>\n      <th>1</th>\n      <td>35</td>\n      <td>Образование</td>\n      <td>Дошкольные учреждения</td>\n      <td>019-0589</td>\n      <td>1</td>\n      <td>2020-11-03</td>\n      <td>2022-05-16</td>\n      <td>2020-11-03</td>\n      <td>2021-12-29</td>\n      <td>NaN</td>\n      <td>NaN</td>\n    </tr>\n    <tr>\n      <th>2</th>\n      <td>61</td>\n      <td>Образование</td>\n      <td>Общеобразовательные учреждения</td>\n      <td>019-0594</td>\n      <td>1</td>\n      <td>2021-05-04</td>\n      <td>2021-12-15</td>\n      <td>2021-05-04</td>\n      <td>2021-12-15</td>\n      <td>NaN</td>\n      <td>NaN</td>\n    </tr>\n    <tr>\n      <th>3</th>\n      <td>89</td>\n      <td>Культура</td>\n      <td>Культурные центры</td>\n      <td>021-0458</td>\n      <td>1</td>\n      <td>2021-10-12</td>\n      <td>2023-05-29</td>\n      <td>2021-10-12</td>\n      <td>2023-05-12</td>\n      <td>NaN</td>\n      <td>NaN</td>\n    </tr>\n    <tr>\n      <th>4</th>\n      <td>34</td>\n      <td>Образование</td>\n      <td>Дошкольные учреждения</td>\n      <td>017-0520</td>\n      <td>1</td>\n      <td>2018-11-01</td>\n      <td>2022-02-15</td>\n      <td>2018-11-01</td>\n      <td>2022-02-15</td>\n      <td>NaN</td>\n      <td>NaN</td>\n    </tr>\n    <tr>\n      <th>...</th>\n      <td>...</td>\n      <td>...</td>\n      <td>...</td>\n      <td>...</td>\n      <td>...</td>\n      <td>...</td>\n      <td>...</td>\n      <td>...</td>\n      <td>...</td>\n      <td>...</td>\n      <td>...</td>\n    </tr>\n    <tr>\n      <th>64659</th>\n      <td>21</td>\n      <td>Здравоохранение</td>\n      <td>Поликлиники</td>\n      <td>023-0135</td>\n      <td>NaN</td>\n      <td>NaT</td>\n      <td>NaT</td>\n      <td>NaT</td>\n      <td>NaT</td>\n      <td>NaN</td>\n      <td>NaN</td>\n    </tr>\n    <tr>\n      <th>64660</th>\n      <td>28</td>\n      <td>Здравоохранение</td>\n      <td>Поликлиники</td>\n      <td>021-0049</td>\n      <td>NaN</td>\n      <td>NaT</td>\n      <td>NaT</td>\n      <td>NaT</td>\n      <td>NaT</td>\n      <td>NaN</td>\n      <td>NaN</td>\n    </tr>\n    <tr>\n      <th>64661</th>\n      <td>29</td>\n      <td>Здравоохранение</td>\n      <td>Поликлиники</td>\n      <td>021-0050</td>\n      <td>NaN</td>\n      <td>NaT</td>\n      <td>NaT</td>\n      <td>NaT</td>\n      <td>NaT</td>\n      <td>NaN</td>\n      <td>NaN</td>\n    </tr>\n    <tr>\n      <th>64662</th>\n      <td>31</td>\n      <td>Здравоохранение</td>\n      <td>Поликлиники</td>\n      <td>022-0707</td>\n      <td>NaN</td>\n      <td>NaT</td>\n      <td>NaT</td>\n      <td>NaT</td>\n      <td>NaT</td>\n      <td>NaN</td>\n      <td>NaN</td>\n    </tr>\n    <tr>\n      <th>64663</th>\n      <td>33</td>\n      <td>Здравоохранение</td>\n      <td>Поликлиники</td>\n      <td>022-0630</td>\n      <td>NaN</td>\n      <td>NaT</td>\n      <td>NaT</td>\n      <td>NaT</td>\n      <td>NaT</td>\n      <td>NaN</td>\n      <td>NaN</td>\n    </tr>\n  </tbody>\n</table>\n<p>64664 rows × 11 columns</p>\n</div>"
     },
     "execution_count": 313,
     "metadata": {},
     "output_type": "execute_result"
    }
   ],
   "source": [
    "dft = test\n",
    "dft.drop(columns=['obj_shortName', 'НазваниеЗадачи', 'ПроцентЗавершенияЗадачи'])"
   ],
   "metadata": {
    "collapsed": false,
    "ExecuteTime": {
     "end_time": "2023-06-25T05:42:30.437493Z",
     "start_time": "2023-06-25T05:42:30.318245400Z"
    }
   }
  },
  {
   "cell_type": "code",
   "execution_count": 309,
   "outputs": [],
   "source": [
    "df.drop(columns=['date_report'])\n",
    "df = df.drop_duplicates(subset=['obj_key'])"
   ],
   "metadata": {
    "collapsed": false,
    "ExecuteTime": {
     "end_time": "2023-06-25T05:41:53.924783900Z",
     "start_time": "2023-06-25T05:41:53.903034300Z"
    }
   }
  },
  {
   "cell_type": "markdown",
   "source": [
    "'площадь', 'Генпроектировщик', 'Генподрядчик', 'кол-во рабочих',\n",
    "       'obj_prg', 'obj_subprg', 'agreement', 'exp', 'year', 'task'"
   ],
   "metadata": {
    "collapsed": false
   }
  },
  {
   "cell_type": "code",
   "execution_count": 317,
   "outputs": [],
   "source": [
    "dft = dft.merge(df, on='obj_key', how='left')"
   ],
   "metadata": {
    "collapsed": false,
    "ExecuteTime": {
     "end_time": "2023-06-25T05:45:46.412621300Z",
     "start_time": "2023-06-25T05:45:46.236026400Z"
    }
   }
  },
  {
   "cell_type": "code",
   "execution_count": 318,
   "outputs": [
    {
     "data": {
      "text/plain": "       № п/п          obj_prg                      obj_subprg   obj_key  \\\n0         36      Образование           Дошкольные учреждения  020-0684   \n1         35      Образование           Дошкольные учреждения  019-0589   \n2         61      Образование  Общеобразовательные учреждения  019-0594   \n3         89         Культура               Культурные центры  021-0458   \n4         34      Образование           Дошкольные учреждения  017-0520   \n...      ...              ...                             ...       ...   \n64659     21  Здравоохранение                     Поликлиники  023-0135   \n64660     28  Здравоохранение                     Поликлиники  021-0049   \n64661     29  Здравоохранение                     Поликлиники  021-0050   \n64662     31  Здравоохранение                     Поликлиники  022-0707   \n64663     33  Здравоохранение                     Поликлиники  022-0630   \n\n                                           obj_shortName Кодзадачи  \\\n0                             ДОУ на 125, ТПУ \"Мневники\"         1   \n1                             ДОУ на 225, ТПУ \"Мневники\"         1   \n2                           Школа на 800, ТПУ \"Мневники\"         1   \n3                               КСЦ \"Печатники\", Полбина         1   \n4           ДОУ на 350, ул. 6-я Радиальная и ул. Дуговая         1   \n...                                                  ...       ...   \n64659  ДП на 320, ул. Зеленоградская,  2 этап. Ликвид...       NaN   \n64660         Пристройка к поликлинике ул. Кременчугская       NaN   \n64661              ДВП на 560, Проектируемый проезд 3538       NaN   \n64662                               ДВП на 320, Онежская       NaN   \n64663                     ДП на 200, Измайловский проезд       NaN   \n\n             НазваниеЗадачи  ПроцентЗавершенияЗадачи ДатаНачалаЗадачи  \\\n0      Предпроектные работы                      0.0       2020-11-03   \n1      Предпроектные работы                      0.0       2020-11-03   \n2      Предпроектные работы                      0.0       2021-05-04   \n3      Предпроектные работы                    100.0       2021-10-12   \n4      Предпроектные работы                    100.0       2018-11-01   \n...                     ...                      ...              ...   \n64659                   NaN                      NaN              NaT   \n64660                   NaN                      NaN              NaT   \n64661                   NaN                      NaN              NaT   \n64662                   NaN                      NaN              NaT   \n64663                   NaN                      NaN              NaT   \n\n      ДатаОкончанияЗадачи  ...    time agreement       exp      year  \\\n0              2022-02-01  ...   455.0     False  exp_none  year_020   \n1              2022-05-16  ...   559.0     False  exp_none  year_019   \n2              2021-12-15  ...   225.0     False  exp_none  year_019   \n3              2023-05-29  ...   594.0     False  exp_none  year_021   \n4              2022-02-15  ...  1202.0     False  exp_none  year_017   \n...                   ...  ...     ...       ...       ...       ...   \n64659                 NaT  ...     NaN      True  exp_none  year_023   \n64660                 NaT  ...     NaN      True  exp_none  year_021   \n64661                 NaT  ...     NaN      True  exp_none  year_021   \n64662                 NaT  ...     NaN      True  exp_none  year_022   \n64663                 NaT  ...     NaN      True  exp_none  year_022   \n\n          состояние площадки  Площадь Генпроектировщик Генподрядчик  \\\n0                     Занята   2488.6              1.0          2.0   \n1                     Занята   3751.1              1.0          2.0   \n2                     Занята  17488.0              1.0          2.0   \n3                        NaN      NaN              NaN          NaN   \n4      Свободна, не передана   6367.0              8.0          5.0   \n...                      ...      ...              ...          ...   \n64659                    NaN      NaN              0.0          0.0   \n64660                    NaN      NaN              0.0          0.0   \n64661                    NaN      NaN              0.0          0.0   \n64662                    NaN      NaN              0.0          0.0   \n64663                    NaN      NaN              0.0          0.0   \n\n      Кол-во рабочих  date_report  \n0                NaN   2023.01.20  \n1                NaN   2023.01.20  \n2                NaN   2023.01.20  \n3                NaN          NaN  \n4                NaN   2023.01.20  \n...              ...          ...  \n64659            NaN   2023.03.15  \n64660            NaN   2023.01.20  \n64661            NaN   2023.01.20  \n64662            NaN   2023.01.20  \n64663            NaN   2023.01.20  \n\n[64664 rows x 24 columns]",
      "text/html": "<div>\n<style scoped>\n    .dataframe tbody tr th:only-of-type {\n        vertical-align: middle;\n    }\n\n    .dataframe tbody tr th {\n        vertical-align: top;\n    }\n\n    .dataframe thead th {\n        text-align: right;\n    }\n</style>\n<table border=\"1\" class=\"dataframe\">\n  <thead>\n    <tr style=\"text-align: right;\">\n      <th></th>\n      <th>№ п/п</th>\n      <th>obj_prg</th>\n      <th>obj_subprg</th>\n      <th>obj_key</th>\n      <th>obj_shortName</th>\n      <th>Кодзадачи</th>\n      <th>НазваниеЗадачи</th>\n      <th>ПроцентЗавершенияЗадачи</th>\n      <th>ДатаНачалаЗадачи</th>\n      <th>ДатаОкончанияЗадачи</th>\n      <th>...</th>\n      <th>time</th>\n      <th>agreement</th>\n      <th>exp</th>\n      <th>year</th>\n      <th>состояние площадки</th>\n      <th>Площадь</th>\n      <th>Генпроектировщик</th>\n      <th>Генподрядчик</th>\n      <th>Кол-во рабочих</th>\n      <th>date_report</th>\n    </tr>\n  </thead>\n  <tbody>\n    <tr>\n      <th>0</th>\n      <td>36</td>\n      <td>Образование</td>\n      <td>Дошкольные учреждения</td>\n      <td>020-0684</td>\n      <td>ДОУ на 125, ТПУ \"Мневники\"</td>\n      <td>1</td>\n      <td>Предпроектные работы</td>\n      <td>0.0</td>\n      <td>2020-11-03</td>\n      <td>2022-02-01</td>\n      <td>...</td>\n      <td>455.0</td>\n      <td>False</td>\n      <td>exp_none</td>\n      <td>year_020</td>\n      <td>Занята</td>\n      <td>2488.6</td>\n      <td>1.0</td>\n      <td>2.0</td>\n      <td>NaN</td>\n      <td>2023.01.20</td>\n    </tr>\n    <tr>\n      <th>1</th>\n      <td>35</td>\n      <td>Образование</td>\n      <td>Дошкольные учреждения</td>\n      <td>019-0589</td>\n      <td>ДОУ на 225, ТПУ \"Мневники\"</td>\n      <td>1</td>\n      <td>Предпроектные работы</td>\n      <td>0.0</td>\n      <td>2020-11-03</td>\n      <td>2022-05-16</td>\n      <td>...</td>\n      <td>559.0</td>\n      <td>False</td>\n      <td>exp_none</td>\n      <td>year_019</td>\n      <td>Занята</td>\n      <td>3751.1</td>\n      <td>1.0</td>\n      <td>2.0</td>\n      <td>NaN</td>\n      <td>2023.01.20</td>\n    </tr>\n    <tr>\n      <th>2</th>\n      <td>61</td>\n      <td>Образование</td>\n      <td>Общеобразовательные учреждения</td>\n      <td>019-0594</td>\n      <td>Школа на 800, ТПУ \"Мневники\"</td>\n      <td>1</td>\n      <td>Предпроектные работы</td>\n      <td>0.0</td>\n      <td>2021-05-04</td>\n      <td>2021-12-15</td>\n      <td>...</td>\n      <td>225.0</td>\n      <td>False</td>\n      <td>exp_none</td>\n      <td>year_019</td>\n      <td>Занята</td>\n      <td>17488.0</td>\n      <td>1.0</td>\n      <td>2.0</td>\n      <td>NaN</td>\n      <td>2023.01.20</td>\n    </tr>\n    <tr>\n      <th>3</th>\n      <td>89</td>\n      <td>Культура</td>\n      <td>Культурные центры</td>\n      <td>021-0458</td>\n      <td>КСЦ \"Печатники\", Полбина</td>\n      <td>1</td>\n      <td>Предпроектные работы</td>\n      <td>100.0</td>\n      <td>2021-10-12</td>\n      <td>2023-05-29</td>\n      <td>...</td>\n      <td>594.0</td>\n      <td>False</td>\n      <td>exp_none</td>\n      <td>year_021</td>\n      <td>NaN</td>\n      <td>NaN</td>\n      <td>NaN</td>\n      <td>NaN</td>\n      <td>NaN</td>\n      <td>NaN</td>\n    </tr>\n    <tr>\n      <th>4</th>\n      <td>34</td>\n      <td>Образование</td>\n      <td>Дошкольные учреждения</td>\n      <td>017-0520</td>\n      <td>ДОУ на 350, ул. 6-я Радиальная и ул. Дуговая</td>\n      <td>1</td>\n      <td>Предпроектные работы</td>\n      <td>100.0</td>\n      <td>2018-11-01</td>\n      <td>2022-02-15</td>\n      <td>...</td>\n      <td>1202.0</td>\n      <td>False</td>\n      <td>exp_none</td>\n      <td>year_017</td>\n      <td>Свободна, не передана</td>\n      <td>6367.0</td>\n      <td>8.0</td>\n      <td>5.0</td>\n      <td>NaN</td>\n      <td>2023.01.20</td>\n    </tr>\n    <tr>\n      <th>...</th>\n      <td>...</td>\n      <td>...</td>\n      <td>...</td>\n      <td>...</td>\n      <td>...</td>\n      <td>...</td>\n      <td>...</td>\n      <td>...</td>\n      <td>...</td>\n      <td>...</td>\n      <td>...</td>\n      <td>...</td>\n      <td>...</td>\n      <td>...</td>\n      <td>...</td>\n      <td>...</td>\n      <td>...</td>\n      <td>...</td>\n      <td>...</td>\n      <td>...</td>\n      <td>...</td>\n    </tr>\n    <tr>\n      <th>64659</th>\n      <td>21</td>\n      <td>Здравоохранение</td>\n      <td>Поликлиники</td>\n      <td>023-0135</td>\n      <td>ДП на 320, ул. Зеленоградская,  2 этап. Ликвид...</td>\n      <td>NaN</td>\n      <td>NaN</td>\n      <td>NaN</td>\n      <td>NaT</td>\n      <td>NaT</td>\n      <td>...</td>\n      <td>NaN</td>\n      <td>True</td>\n      <td>exp_none</td>\n      <td>year_023</td>\n      <td>NaN</td>\n      <td>NaN</td>\n      <td>0.0</td>\n      <td>0.0</td>\n      <td>NaN</td>\n      <td>2023.03.15</td>\n    </tr>\n    <tr>\n      <th>64660</th>\n      <td>28</td>\n      <td>Здравоохранение</td>\n      <td>Поликлиники</td>\n      <td>021-0049</td>\n      <td>Пристройка к поликлинике ул. Кременчугская</td>\n      <td>NaN</td>\n      <td>NaN</td>\n      <td>NaN</td>\n      <td>NaT</td>\n      <td>NaT</td>\n      <td>...</td>\n      <td>NaN</td>\n      <td>True</td>\n      <td>exp_none</td>\n      <td>year_021</td>\n      <td>NaN</td>\n      <td>NaN</td>\n      <td>0.0</td>\n      <td>0.0</td>\n      <td>NaN</td>\n      <td>2023.01.20</td>\n    </tr>\n    <tr>\n      <th>64661</th>\n      <td>29</td>\n      <td>Здравоохранение</td>\n      <td>Поликлиники</td>\n      <td>021-0050</td>\n      <td>ДВП на 560, Проектируемый проезд 3538</td>\n      <td>NaN</td>\n      <td>NaN</td>\n      <td>NaN</td>\n      <td>NaT</td>\n      <td>NaT</td>\n      <td>...</td>\n      <td>NaN</td>\n      <td>True</td>\n      <td>exp_none</td>\n      <td>year_021</td>\n      <td>NaN</td>\n      <td>NaN</td>\n      <td>0.0</td>\n      <td>0.0</td>\n      <td>NaN</td>\n      <td>2023.01.20</td>\n    </tr>\n    <tr>\n      <th>64662</th>\n      <td>31</td>\n      <td>Здравоохранение</td>\n      <td>Поликлиники</td>\n      <td>022-0707</td>\n      <td>ДВП на 320, Онежская</td>\n      <td>NaN</td>\n      <td>NaN</td>\n      <td>NaN</td>\n      <td>NaT</td>\n      <td>NaT</td>\n      <td>...</td>\n      <td>NaN</td>\n      <td>True</td>\n      <td>exp_none</td>\n      <td>year_022</td>\n      <td>NaN</td>\n      <td>NaN</td>\n      <td>0.0</td>\n      <td>0.0</td>\n      <td>NaN</td>\n      <td>2023.01.20</td>\n    </tr>\n    <tr>\n      <th>64663</th>\n      <td>33</td>\n      <td>Здравоохранение</td>\n      <td>Поликлиники</td>\n      <td>022-0630</td>\n      <td>ДП на 200, Измайловский проезд</td>\n      <td>NaN</td>\n      <td>NaN</td>\n      <td>NaN</td>\n      <td>NaT</td>\n      <td>NaT</td>\n      <td>...</td>\n      <td>NaN</td>\n      <td>True</td>\n      <td>exp_none</td>\n      <td>year_022</td>\n      <td>NaN</td>\n      <td>NaN</td>\n      <td>0.0</td>\n      <td>0.0</td>\n      <td>NaN</td>\n      <td>2023.01.20</td>\n    </tr>\n  </tbody>\n</table>\n<p>64664 rows × 24 columns</p>\n</div>"
     },
     "execution_count": 318,
     "metadata": {},
     "output_type": "execute_result"
    }
   ],
   "source": [
    "dft"
   ],
   "metadata": {
    "collapsed": false,
    "ExecuteTime": {
     "end_time": "2023-06-25T05:45:53.263439600Z",
     "start_time": "2023-06-25T05:45:53.041131700Z"
    }
   }
  },
  {
   "cell_type": "code",
   "execution_count": 319,
   "outputs": [],
   "source": [
    "dft['ДатаНачалаЗадачи'] = pd.to_datetime(dft['ДатаНачалаЗадачи'], format=\"%Y-%m-%d\")\n",
    "dft['ДатаОкончанияЗадачи'] = pd.to_datetime(dft['ДатаОкончанияЗадачи'], format=\"%Y-%m-%d\")\n",
    "dft['time'] = (dft['ДатаОкончанияЗадачи'] - dft['ДатаНачалаЗадачи']).dt.days\n",
    "dft['agreement'] = dft['ДатаначалаБП0'].isna()\n",
    "dft['exp'] = dft['Экспертиза'].fillna('exp_none')\n",
    "dft['year'] = dft['obj_key'].astype('str').apply(lambda x: 'year_' + x.split('-')[0])\n",
    "dft['Генпроектировщик'] = dft['Генпроектировщик'].apply(lambda x: 'GPR_' + str(x))\n",
    "dft['Генподрядчик'] = dft['Генподрядчик'].apply(lambda x: 'GPD_' + str(x))\n",
    "dft['task'] = dft['Кодзадачи'].astype('str')\n",
    "dft['Кол-во рабочих'] = dft['Кол-во рабочих'].fillna(dft['Кол-во рабочих'].mean())\n",
    "dft = dft.fillna(0)"
   ],
   "metadata": {
    "collapsed": false,
    "ExecuteTime": {
     "end_time": "2023-06-25T05:46:05.099167500Z",
     "start_time": "2023-06-25T05:45:59.613488300Z"
    }
   }
  },
  {
   "cell_type": "code",
   "execution_count": 320,
   "outputs": [
    {
     "data": {
      "text/plain": "       № п/п          obj_prg                      obj_subprg   obj_key  \\\n0         36      Образование           Дошкольные учреждения  020-0684   \n1         35      Образование           Дошкольные учреждения  019-0589   \n2         61      Образование  Общеобразовательные учреждения  019-0594   \n3         89         Культура               Культурные центры  021-0458   \n4         34      Образование           Дошкольные учреждения  017-0520   \n...      ...              ...                             ...       ...   \n64659     21  Здравоохранение                     Поликлиники  023-0135   \n64660     28  Здравоохранение                     Поликлиники  021-0049   \n64661     29  Здравоохранение                     Поликлиники  021-0050   \n64662     31  Здравоохранение                     Поликлиники  022-0707   \n64663     33  Здравоохранение                     Поликлиники  022-0630   \n\n                                           obj_shortName Кодзадачи  \\\n0                             ДОУ на 125, ТПУ \"Мневники\"         1   \n1                             ДОУ на 225, ТПУ \"Мневники\"         1   \n2                           Школа на 800, ТПУ \"Мневники\"         1   \n3                               КСЦ \"Печатники\", Полбина         1   \n4           ДОУ на 350, ул. 6-я Радиальная и ул. Дуговая         1   \n...                                                  ...       ...   \n64659  ДП на 320, ул. Зеленоградская,  2 этап. Ликвид...         0   \n64660         Пристройка к поликлинике ул. Кременчугская         0   \n64661              ДВП на 560, Проектируемый проезд 3538         0   \n64662                               ДВП на 320, Онежская         0   \n64663                     ДП на 200, Измайловский проезд         0   \n\n             НазваниеЗадачи  ПроцентЗавершенияЗадачи     ДатаНачалаЗадачи  \\\n0      Предпроектные работы                      0.0  2020-11-03 00:00:00   \n1      Предпроектные работы                      0.0  2020-11-03 00:00:00   \n2      Предпроектные работы                      0.0  2021-05-04 00:00:00   \n3      Предпроектные работы                    100.0  2021-10-12 00:00:00   \n4      Предпроектные работы                    100.0  2018-11-01 00:00:00   \n...                     ...                      ...                  ...   \n64659                     0                      0.0                    0   \n64660                     0                      0.0                    0   \n64661                     0                      0.0                    0   \n64662                     0                      0.0                    0   \n64663                     0                      0.0                    0   \n\n       ДатаОкончанияЗадачи  ... agreement       exp      year  \\\n0      2022-02-01 00:00:00  ...     False  exp_none  year_020   \n1      2022-05-16 00:00:00  ...     False  exp_none  year_019   \n2      2021-12-15 00:00:00  ...     False  exp_none  year_019   \n3      2023-05-29 00:00:00  ...     False  exp_none  year_021   \n4      2022-02-15 00:00:00  ...     False  exp_none  year_017   \n...                    ...  ...       ...       ...       ...   \n64659                    0  ...      True  exp_none  year_023   \n64660                    0  ...      True  exp_none  year_021   \n64661                    0  ...      True  exp_none  year_021   \n64662                    0  ...      True  exp_none  year_022   \n64663                    0  ...      True  exp_none  year_022   \n\n          состояние площадки  Площадь  Генпроектировщик Генподрядчик  \\\n0                     Занята   2488.6           GPR_1.0      GPD_2.0   \n1                     Занята   3751.1           GPR_1.0      GPD_2.0   \n2                     Занята  17488.0           GPR_1.0      GPD_2.0   \n3                          0      0.0           GPR_nan      GPD_nan   \n4      Свободна, не передана   6367.0           GPR_8.0      GPD_5.0   \n...                      ...      ...               ...          ...   \n64659                      0      0.0           GPR_0.0      GPD_0.0   \n64660                      0      0.0           GPR_0.0      GPD_0.0   \n64661                      0      0.0           GPR_0.0      GPD_0.0   \n64662                      0      0.0           GPR_0.0      GPD_0.0   \n64663                      0      0.0           GPR_0.0      GPD_0.0   \n\n      Кол-во рабочих date_report  task  \n0         109.601623  2023.01.20     1  \n1         109.601623  2023.01.20     1  \n2         109.601623  2023.01.20     1  \n3         109.601623           0     1  \n4         109.601623  2023.01.20     1  \n...              ...         ...   ...  \n64659     109.601623  2023.03.15   nan  \n64660     109.601623  2023.01.20   nan  \n64661     109.601623  2023.01.20   nan  \n64662     109.601623  2023.01.20   nan  \n64663     109.601623  2023.01.20   nan  \n\n[64664 rows x 25 columns]",
      "text/html": "<div>\n<style scoped>\n    .dataframe tbody tr th:only-of-type {\n        vertical-align: middle;\n    }\n\n    .dataframe tbody tr th {\n        vertical-align: top;\n    }\n\n    .dataframe thead th {\n        text-align: right;\n    }\n</style>\n<table border=\"1\" class=\"dataframe\">\n  <thead>\n    <tr style=\"text-align: right;\">\n      <th></th>\n      <th>№ п/п</th>\n      <th>obj_prg</th>\n      <th>obj_subprg</th>\n      <th>obj_key</th>\n      <th>obj_shortName</th>\n      <th>Кодзадачи</th>\n      <th>НазваниеЗадачи</th>\n      <th>ПроцентЗавершенияЗадачи</th>\n      <th>ДатаНачалаЗадачи</th>\n      <th>ДатаОкончанияЗадачи</th>\n      <th>...</th>\n      <th>agreement</th>\n      <th>exp</th>\n      <th>year</th>\n      <th>состояние площадки</th>\n      <th>Площадь</th>\n      <th>Генпроектировщик</th>\n      <th>Генподрядчик</th>\n      <th>Кол-во рабочих</th>\n      <th>date_report</th>\n      <th>task</th>\n    </tr>\n  </thead>\n  <tbody>\n    <tr>\n      <th>0</th>\n      <td>36</td>\n      <td>Образование</td>\n      <td>Дошкольные учреждения</td>\n      <td>020-0684</td>\n      <td>ДОУ на 125, ТПУ \"Мневники\"</td>\n      <td>1</td>\n      <td>Предпроектные работы</td>\n      <td>0.0</td>\n      <td>2020-11-03 00:00:00</td>\n      <td>2022-02-01 00:00:00</td>\n      <td>...</td>\n      <td>False</td>\n      <td>exp_none</td>\n      <td>year_020</td>\n      <td>Занята</td>\n      <td>2488.6</td>\n      <td>GPR_1.0</td>\n      <td>GPD_2.0</td>\n      <td>109.601623</td>\n      <td>2023.01.20</td>\n      <td>1</td>\n    </tr>\n    <tr>\n      <th>1</th>\n      <td>35</td>\n      <td>Образование</td>\n      <td>Дошкольные учреждения</td>\n      <td>019-0589</td>\n      <td>ДОУ на 225, ТПУ \"Мневники\"</td>\n      <td>1</td>\n      <td>Предпроектные работы</td>\n      <td>0.0</td>\n      <td>2020-11-03 00:00:00</td>\n      <td>2022-05-16 00:00:00</td>\n      <td>...</td>\n      <td>False</td>\n      <td>exp_none</td>\n      <td>year_019</td>\n      <td>Занята</td>\n      <td>3751.1</td>\n      <td>GPR_1.0</td>\n      <td>GPD_2.0</td>\n      <td>109.601623</td>\n      <td>2023.01.20</td>\n      <td>1</td>\n    </tr>\n    <tr>\n      <th>2</th>\n      <td>61</td>\n      <td>Образование</td>\n      <td>Общеобразовательные учреждения</td>\n      <td>019-0594</td>\n      <td>Школа на 800, ТПУ \"Мневники\"</td>\n      <td>1</td>\n      <td>Предпроектные работы</td>\n      <td>0.0</td>\n      <td>2021-05-04 00:00:00</td>\n      <td>2021-12-15 00:00:00</td>\n      <td>...</td>\n      <td>False</td>\n      <td>exp_none</td>\n      <td>year_019</td>\n      <td>Занята</td>\n      <td>17488.0</td>\n      <td>GPR_1.0</td>\n      <td>GPD_2.0</td>\n      <td>109.601623</td>\n      <td>2023.01.20</td>\n      <td>1</td>\n    </tr>\n    <tr>\n      <th>3</th>\n      <td>89</td>\n      <td>Культура</td>\n      <td>Культурные центры</td>\n      <td>021-0458</td>\n      <td>КСЦ \"Печатники\", Полбина</td>\n      <td>1</td>\n      <td>Предпроектные работы</td>\n      <td>100.0</td>\n      <td>2021-10-12 00:00:00</td>\n      <td>2023-05-29 00:00:00</td>\n      <td>...</td>\n      <td>False</td>\n      <td>exp_none</td>\n      <td>year_021</td>\n      <td>0</td>\n      <td>0.0</td>\n      <td>GPR_nan</td>\n      <td>GPD_nan</td>\n      <td>109.601623</td>\n      <td>0</td>\n      <td>1</td>\n    </tr>\n    <tr>\n      <th>4</th>\n      <td>34</td>\n      <td>Образование</td>\n      <td>Дошкольные учреждения</td>\n      <td>017-0520</td>\n      <td>ДОУ на 350, ул. 6-я Радиальная и ул. Дуговая</td>\n      <td>1</td>\n      <td>Предпроектные работы</td>\n      <td>100.0</td>\n      <td>2018-11-01 00:00:00</td>\n      <td>2022-02-15 00:00:00</td>\n      <td>...</td>\n      <td>False</td>\n      <td>exp_none</td>\n      <td>year_017</td>\n      <td>Свободна, не передана</td>\n      <td>6367.0</td>\n      <td>GPR_8.0</td>\n      <td>GPD_5.0</td>\n      <td>109.601623</td>\n      <td>2023.01.20</td>\n      <td>1</td>\n    </tr>\n    <tr>\n      <th>...</th>\n      <td>...</td>\n      <td>...</td>\n      <td>...</td>\n      <td>...</td>\n      <td>...</td>\n      <td>...</td>\n      <td>...</td>\n      <td>...</td>\n      <td>...</td>\n      <td>...</td>\n      <td>...</td>\n      <td>...</td>\n      <td>...</td>\n      <td>...</td>\n      <td>...</td>\n      <td>...</td>\n      <td>...</td>\n      <td>...</td>\n      <td>...</td>\n      <td>...</td>\n      <td>...</td>\n    </tr>\n    <tr>\n      <th>64659</th>\n      <td>21</td>\n      <td>Здравоохранение</td>\n      <td>Поликлиники</td>\n      <td>023-0135</td>\n      <td>ДП на 320, ул. Зеленоградская,  2 этап. Ликвид...</td>\n      <td>0</td>\n      <td>0</td>\n      <td>0.0</td>\n      <td>0</td>\n      <td>0</td>\n      <td>...</td>\n      <td>True</td>\n      <td>exp_none</td>\n      <td>year_023</td>\n      <td>0</td>\n      <td>0.0</td>\n      <td>GPR_0.0</td>\n      <td>GPD_0.0</td>\n      <td>109.601623</td>\n      <td>2023.03.15</td>\n      <td>nan</td>\n    </tr>\n    <tr>\n      <th>64660</th>\n      <td>28</td>\n      <td>Здравоохранение</td>\n      <td>Поликлиники</td>\n      <td>021-0049</td>\n      <td>Пристройка к поликлинике ул. Кременчугская</td>\n      <td>0</td>\n      <td>0</td>\n      <td>0.0</td>\n      <td>0</td>\n      <td>0</td>\n      <td>...</td>\n      <td>True</td>\n      <td>exp_none</td>\n      <td>year_021</td>\n      <td>0</td>\n      <td>0.0</td>\n      <td>GPR_0.0</td>\n      <td>GPD_0.0</td>\n      <td>109.601623</td>\n      <td>2023.01.20</td>\n      <td>nan</td>\n    </tr>\n    <tr>\n      <th>64661</th>\n      <td>29</td>\n      <td>Здравоохранение</td>\n      <td>Поликлиники</td>\n      <td>021-0050</td>\n      <td>ДВП на 560, Проектируемый проезд 3538</td>\n      <td>0</td>\n      <td>0</td>\n      <td>0.0</td>\n      <td>0</td>\n      <td>0</td>\n      <td>...</td>\n      <td>True</td>\n      <td>exp_none</td>\n      <td>year_021</td>\n      <td>0</td>\n      <td>0.0</td>\n      <td>GPR_0.0</td>\n      <td>GPD_0.0</td>\n      <td>109.601623</td>\n      <td>2023.01.20</td>\n      <td>nan</td>\n    </tr>\n    <tr>\n      <th>64662</th>\n      <td>31</td>\n      <td>Здравоохранение</td>\n      <td>Поликлиники</td>\n      <td>022-0707</td>\n      <td>ДВП на 320, Онежская</td>\n      <td>0</td>\n      <td>0</td>\n      <td>0.0</td>\n      <td>0</td>\n      <td>0</td>\n      <td>...</td>\n      <td>True</td>\n      <td>exp_none</td>\n      <td>year_022</td>\n      <td>0</td>\n      <td>0.0</td>\n      <td>GPR_0.0</td>\n      <td>GPD_0.0</td>\n      <td>109.601623</td>\n      <td>2023.01.20</td>\n      <td>nan</td>\n    </tr>\n    <tr>\n      <th>64663</th>\n      <td>33</td>\n      <td>Здравоохранение</td>\n      <td>Поликлиники</td>\n      <td>022-0630</td>\n      <td>ДП на 200, Измайловский проезд</td>\n      <td>0</td>\n      <td>0</td>\n      <td>0.0</td>\n      <td>0</td>\n      <td>0</td>\n      <td>...</td>\n      <td>True</td>\n      <td>exp_none</td>\n      <td>year_022</td>\n      <td>0</td>\n      <td>0.0</td>\n      <td>GPR_0.0</td>\n      <td>GPD_0.0</td>\n      <td>109.601623</td>\n      <td>2023.01.20</td>\n      <td>nan</td>\n    </tr>\n  </tbody>\n</table>\n<p>64664 rows × 25 columns</p>\n</div>"
     },
     "execution_count": 320,
     "metadata": {},
     "output_type": "execute_result"
    }
   ],
   "source": [
    "dft"
   ],
   "metadata": {
    "collapsed": false,
    "ExecuteTime": {
     "end_time": "2023-06-25T05:46:09.785967Z",
     "start_time": "2023-06-25T05:46:09.648406200Z"
    }
   }
  },
  {
   "cell_type": "code",
   "execution_count": 323,
   "outputs": [],
   "source": [
    "dft = dft.drop(columns=['№ п/п', 'obj_key', 'obj_shortName',\n",
    "       'Кодзадачи', 'НазваниеЗадачи', 'ПроцентЗавершенияЗадачи',\n",
    "       'ДатаНачалаЗадачи', 'ДатаОкончанияЗадачи', 'ДатаначалаБП0',\n",
    "       'ДатаокончанияБП0', 'Статуспоэкспертизе', 'Экспертиза', 'состояние площадки'])"
   ],
   "metadata": {
    "collapsed": false,
    "ExecuteTime": {
     "end_time": "2023-06-25T05:48:49.588918200Z",
     "start_time": "2023-06-25T05:48:49.522413700Z"
    }
   }
  },
  {
   "cell_type": "code",
   "execution_count": 328,
   "outputs": [],
   "source": [
    "dft = dft.drop(columns=['date_report'])"
   ],
   "metadata": {
    "collapsed": false,
    "ExecuteTime": {
     "end_time": "2023-06-25T05:51:56.755947800Z",
     "start_time": "2023-06-25T05:51:56.702071200Z"
    }
   }
  },
  {
   "cell_type": "code",
   "execution_count": 333,
   "outputs": [
    {
     "data": {
      "text/plain": "Index(['obj_prg', 'obj_subprg', 'time', 'agreement', 'exp', 'year', 'Площадь',\n       'Генпроектировщик', 'Генподрядчик', 'Кол-во рабочих', 'task'],\n      dtype='object')"
     },
     "execution_count": 333,
     "metadata": {},
     "output_type": "execute_result"
    }
   ],
   "source": [
    "dft.columns"
   ],
   "metadata": {
    "collapsed": false,
    "ExecuteTime": {
     "end_time": "2023-06-25T05:55:46.287804300Z",
     "start_time": "2023-06-25T05:55:46.236650600Z"
    }
   }
  },
  {
   "cell_type": "code",
   "execution_count": 336,
   "outputs": [],
   "source": [
    "dft = dft[['Площадь','Генпроектировщик', 'Генподрядчик', 'Кол-во рабочих', 'obj_prg', 'obj_subprg', 'agreement', 'exp', 'year', 'task']]"
   ],
   "metadata": {
    "collapsed": false,
    "ExecuteTime": {
     "end_time": "2023-06-25T05:57:12.660997400Z",
     "start_time": "2023-06-25T05:57:12.627185100Z"
    }
   }
  },
  {
   "cell_type": "markdown",
   "source": [
    "'площадь', 'Генпроектировщик', 'Генподрядчик', 'кол-во рабочих',\n",
    "       'obj_prg', 'obj_subprg', 'agreement', 'exp', 'year', 'task'"
   ],
   "metadata": {
    "collapsed": false
   }
  },
  {
   "cell_type": "code",
   "execution_count": 337,
   "outputs": [
    {
     "data": {
      "text/plain": "       Площадь Генпроектировщик Генподрядчик  Кол-во рабочих          obj_prg  \\\n0       2488.6          GPR_1.0      GPD_2.0      109.601623      Образование   \n1       3751.1          GPR_1.0      GPD_2.0      109.601623      Образование   \n2      17488.0          GPR_1.0      GPD_2.0      109.601623      Образование   \n3          0.0          GPR_nan      GPD_nan      109.601623         Культура   \n4       6367.0          GPR_8.0      GPD_5.0      109.601623      Образование   \n...        ...              ...          ...             ...              ...   \n64659      0.0          GPR_0.0      GPD_0.0      109.601623  Здравоохранение   \n64660      0.0          GPR_0.0      GPD_0.0      109.601623  Здравоохранение   \n64661      0.0          GPR_0.0      GPD_0.0      109.601623  Здравоохранение   \n64662      0.0          GPR_0.0      GPD_0.0      109.601623  Здравоохранение   \n64663      0.0          GPR_0.0      GPD_0.0      109.601623  Здравоохранение   \n\n                           obj_subprg  agreement       exp      year task  \n0               Дошкольные учреждения      False  exp_none  year_020    1  \n1               Дошкольные учреждения      False  exp_none  year_019    1  \n2      Общеобразовательные учреждения      False  exp_none  year_019    1  \n3                   Культурные центры      False  exp_none  year_021    1  \n4               Дошкольные учреждения      False  exp_none  year_017    1  \n...                               ...        ...       ...       ...  ...  \n64659                     Поликлиники       True  exp_none  year_023  nan  \n64660                     Поликлиники       True  exp_none  year_021  nan  \n64661                     Поликлиники       True  exp_none  year_021  nan  \n64662                     Поликлиники       True  exp_none  year_022  nan  \n64663                     Поликлиники       True  exp_none  year_022  nan  \n\n[64664 rows x 10 columns]",
      "text/html": "<div>\n<style scoped>\n    .dataframe tbody tr th:only-of-type {\n        vertical-align: middle;\n    }\n\n    .dataframe tbody tr th {\n        vertical-align: top;\n    }\n\n    .dataframe thead th {\n        text-align: right;\n    }\n</style>\n<table border=\"1\" class=\"dataframe\">\n  <thead>\n    <tr style=\"text-align: right;\">\n      <th></th>\n      <th>Площадь</th>\n      <th>Генпроектировщик</th>\n      <th>Генподрядчик</th>\n      <th>Кол-во рабочих</th>\n      <th>obj_prg</th>\n      <th>obj_subprg</th>\n      <th>agreement</th>\n      <th>exp</th>\n      <th>year</th>\n      <th>task</th>\n    </tr>\n  </thead>\n  <tbody>\n    <tr>\n      <th>0</th>\n      <td>2488.6</td>\n      <td>GPR_1.0</td>\n      <td>GPD_2.0</td>\n      <td>109.601623</td>\n      <td>Образование</td>\n      <td>Дошкольные учреждения</td>\n      <td>False</td>\n      <td>exp_none</td>\n      <td>year_020</td>\n      <td>1</td>\n    </tr>\n    <tr>\n      <th>1</th>\n      <td>3751.1</td>\n      <td>GPR_1.0</td>\n      <td>GPD_2.0</td>\n      <td>109.601623</td>\n      <td>Образование</td>\n      <td>Дошкольные учреждения</td>\n      <td>False</td>\n      <td>exp_none</td>\n      <td>year_019</td>\n      <td>1</td>\n    </tr>\n    <tr>\n      <th>2</th>\n      <td>17488.0</td>\n      <td>GPR_1.0</td>\n      <td>GPD_2.0</td>\n      <td>109.601623</td>\n      <td>Образование</td>\n      <td>Общеобразовательные учреждения</td>\n      <td>False</td>\n      <td>exp_none</td>\n      <td>year_019</td>\n      <td>1</td>\n    </tr>\n    <tr>\n      <th>3</th>\n      <td>0.0</td>\n      <td>GPR_nan</td>\n      <td>GPD_nan</td>\n      <td>109.601623</td>\n      <td>Культура</td>\n      <td>Культурные центры</td>\n      <td>False</td>\n      <td>exp_none</td>\n      <td>year_021</td>\n      <td>1</td>\n    </tr>\n    <tr>\n      <th>4</th>\n      <td>6367.0</td>\n      <td>GPR_8.0</td>\n      <td>GPD_5.0</td>\n      <td>109.601623</td>\n      <td>Образование</td>\n      <td>Дошкольные учреждения</td>\n      <td>False</td>\n      <td>exp_none</td>\n      <td>year_017</td>\n      <td>1</td>\n    </tr>\n    <tr>\n      <th>...</th>\n      <td>...</td>\n      <td>...</td>\n      <td>...</td>\n      <td>...</td>\n      <td>...</td>\n      <td>...</td>\n      <td>...</td>\n      <td>...</td>\n      <td>...</td>\n      <td>...</td>\n    </tr>\n    <tr>\n      <th>64659</th>\n      <td>0.0</td>\n      <td>GPR_0.0</td>\n      <td>GPD_0.0</td>\n      <td>109.601623</td>\n      <td>Здравоохранение</td>\n      <td>Поликлиники</td>\n      <td>True</td>\n      <td>exp_none</td>\n      <td>year_023</td>\n      <td>nan</td>\n    </tr>\n    <tr>\n      <th>64660</th>\n      <td>0.0</td>\n      <td>GPR_0.0</td>\n      <td>GPD_0.0</td>\n      <td>109.601623</td>\n      <td>Здравоохранение</td>\n      <td>Поликлиники</td>\n      <td>True</td>\n      <td>exp_none</td>\n      <td>year_021</td>\n      <td>nan</td>\n    </tr>\n    <tr>\n      <th>64661</th>\n      <td>0.0</td>\n      <td>GPR_0.0</td>\n      <td>GPD_0.0</td>\n      <td>109.601623</td>\n      <td>Здравоохранение</td>\n      <td>Поликлиники</td>\n      <td>True</td>\n      <td>exp_none</td>\n      <td>year_021</td>\n      <td>nan</td>\n    </tr>\n    <tr>\n      <th>64662</th>\n      <td>0.0</td>\n      <td>GPR_0.0</td>\n      <td>GPD_0.0</td>\n      <td>109.601623</td>\n      <td>Здравоохранение</td>\n      <td>Поликлиники</td>\n      <td>True</td>\n      <td>exp_none</td>\n      <td>year_022</td>\n      <td>nan</td>\n    </tr>\n    <tr>\n      <th>64663</th>\n      <td>0.0</td>\n      <td>GPR_0.0</td>\n      <td>GPD_0.0</td>\n      <td>109.601623</td>\n      <td>Здравоохранение</td>\n      <td>Поликлиники</td>\n      <td>True</td>\n      <td>exp_none</td>\n      <td>year_022</td>\n      <td>nan</td>\n    </tr>\n  </tbody>\n</table>\n<p>64664 rows × 10 columns</p>\n</div>"
     },
     "execution_count": 337,
     "metadata": {},
     "output_type": "execute_result"
    }
   ],
   "source": [
    "dft"
   ],
   "metadata": {
    "collapsed": false,
    "ExecuteTime": {
     "end_time": "2023-06-25T05:57:17.724453700Z",
     "start_time": "2023-06-25T05:57:17.685605Z"
    }
   }
  },
  {
   "cell_type": "code",
   "execution_count": 343,
   "outputs": [],
   "source": [
    "predicts = cat.predict(dft)"
   ],
   "metadata": {
    "collapsed": false,
    "ExecuteTime": {
     "end_time": "2023-06-25T05:58:54.919960500Z",
     "start_time": "2023-06-25T05:58:53.518282200Z"
    }
   }
  },
  {
   "cell_type": "code",
   "execution_count": 339,
   "outputs": [],
   "source": [
    "tt = test"
   ],
   "metadata": {
    "collapsed": false,
    "ExecuteTime": {
     "end_time": "2023-06-25T05:57:36.194408400Z",
     "start_time": "2023-06-25T05:57:36.144480Z"
    }
   }
  },
  {
   "cell_type": "code",
   "execution_count": 340,
   "outputs": [
    {
     "data": {
      "text/plain": "Index(['№ п/п', 'obj_prg', 'obj_subprg', 'obj_key', 'obj_shortName',\n       'Кодзадачи', 'НазваниеЗадачи', 'ПроцентЗавершенияЗадачи',\n       'ДатаНачалаЗадачи', 'ДатаОкончанияЗадачи', 'ДатаначалаБП0',\n       'ДатаокончанияБП0', 'Статуспоэкспертизе', 'Экспертиза', 'time',\n       'agreement', 'exp', 'year'],\n      dtype='object')"
     },
     "execution_count": 340,
     "metadata": {},
     "output_type": "execute_result"
    }
   ],
   "source": [
    "tt.columns"
   ],
   "metadata": {
    "collapsed": false,
    "ExecuteTime": {
     "end_time": "2023-06-25T05:58:01.401499800Z",
     "start_time": "2023-06-25T05:58:01.346773300Z"
    }
   }
  },
  {
   "cell_type": "code",
   "execution_count": 341,
   "outputs": [],
   "source": [
    "finish = test[['obj_key', 'Кодзадачи', 'НазваниеЗадачи']]"
   ],
   "metadata": {
    "collapsed": false,
    "ExecuteTime": {
     "end_time": "2023-06-25T05:58:19.755469200Z",
     "start_time": "2023-06-25T05:58:19.697522700Z"
    }
   }
  },
  {
   "cell_type": "code",
   "execution_count": 354,
   "outputs": [],
   "source": [
    "predictions_df = pd.DataFrame(predicts.tolist(), columns=['time in days'])"
   ],
   "metadata": {
    "collapsed": false,
    "ExecuteTime": {
     "end_time": "2023-06-25T06:05:09.190143500Z",
     "start_time": "2023-06-25T06:05:09.142565500Z"
    }
   }
  },
  {
   "cell_type": "code",
   "execution_count": 355,
   "outputs": [
    {
     "data": {
      "text/plain": "       time in days\n0        133.535306\n1        147.136815\n2        151.986888\n3        220.390681\n4        140.941285\n...             ...\n64659     22.867059\n64660     23.308048\n64661     23.308048\n64662     23.193689\n64663     23.193689\n\n[64664 rows x 1 columns]",
      "text/html": "<div>\n<style scoped>\n    .dataframe tbody tr th:only-of-type {\n        vertical-align: middle;\n    }\n\n    .dataframe tbody tr th {\n        vertical-align: top;\n    }\n\n    .dataframe thead th {\n        text-align: right;\n    }\n</style>\n<table border=\"1\" class=\"dataframe\">\n  <thead>\n    <tr style=\"text-align: right;\">\n      <th></th>\n      <th>time in days</th>\n    </tr>\n  </thead>\n  <tbody>\n    <tr>\n      <th>0</th>\n      <td>133.535306</td>\n    </tr>\n    <tr>\n      <th>1</th>\n      <td>147.136815</td>\n    </tr>\n    <tr>\n      <th>2</th>\n      <td>151.986888</td>\n    </tr>\n    <tr>\n      <th>3</th>\n      <td>220.390681</td>\n    </tr>\n    <tr>\n      <th>4</th>\n      <td>140.941285</td>\n    </tr>\n    <tr>\n      <th>...</th>\n      <td>...</td>\n    </tr>\n    <tr>\n      <th>64659</th>\n      <td>22.867059</td>\n    </tr>\n    <tr>\n      <th>64660</th>\n      <td>23.308048</td>\n    </tr>\n    <tr>\n      <th>64661</th>\n      <td>23.308048</td>\n    </tr>\n    <tr>\n      <th>64662</th>\n      <td>23.193689</td>\n    </tr>\n    <tr>\n      <th>64663</th>\n      <td>23.193689</td>\n    </tr>\n  </tbody>\n</table>\n<p>64664 rows × 1 columns</p>\n</div>"
     },
     "execution_count": 355,
     "metadata": {},
     "output_type": "execute_result"
    }
   ],
   "source": [
    "predictions_df"
   ],
   "metadata": {
    "collapsed": false,
    "ExecuteTime": {
     "end_time": "2023-06-25T06:05:09.714056800Z",
     "start_time": "2023-06-25T06:05:09.702905400Z"
    }
   }
  },
  {
   "cell_type": "code",
   "execution_count": 360,
   "outputs": [
    {
     "name": "stderr",
     "output_type": "stream",
     "text": [
      "C:\\Users\\sokol\\AppData\\Local\\Temp\\ipykernel_9856\\2748903942.py:1: SettingWithCopyWarning: \n",
      "A value is trying to be set on a copy of a slice from a DataFrame.\n",
      "Try using .loc[row_indexer,col_indexer] = value instead\n",
      "\n",
      "See the caveats in the documentation: https://pandas.pydata.org/pandas-docs/stable/user_guide/indexing.html#returning-a-view-versus-a-copy\n",
      "  finish['time in days'] = predicts\n"
     ]
    }
   ],
   "source": [
    "finish['time in days'] = predicts"
   ],
   "metadata": {
    "collapsed": false,
    "ExecuteTime": {
     "end_time": "2023-06-25T06:06:25.080301200Z",
     "start_time": "2023-06-25T06:06:25.067274800Z"
    }
   }
  },
  {
   "cell_type": "code",
   "execution_count": 367,
   "outputs": [
    {
     "name": "stderr",
     "output_type": "stream",
     "text": [
      "C:\\Users\\sokol\\AppData\\Local\\Temp\\ipykernel_9856\\3175304259.py:1: SettingWithCopyWarning: \n",
      "A value is trying to be set on a copy of a slice from a DataFrame.\n",
      "Try using .loc[row_indexer,col_indexer] = value instead\n",
      "\n",
      "See the caveats in the documentation: https://pandas.pydata.org/pandas-docs/stable/user_guide/indexing.html#returning-a-view-versus-a-copy\n",
      "  finish['сдвиг'] = (test['ДатаОкончанияЗадачи'] - test['ДатаНачалаЗадачи']).dt.days\n"
     ]
    }
   ],
   "source": [
    "finish['сдвиг'] = (test['ДатаОкончанияЗадачи'] - test['ДатаНачалаЗадачи']).dt.days"
   ],
   "metadata": {
    "collapsed": false,
    "ExecuteTime": {
     "end_time": "2023-06-25T06:14:44.114472Z",
     "start_time": "2023-06-25T06:14:43.958936300Z"
    }
   }
  },
  {
   "cell_type": "code",
   "execution_count": 371,
   "outputs": [
    {
     "name": "stderr",
     "output_type": "stream",
     "text": [
      "C:\\Users\\sokol\\AppData\\Local\\Temp\\ipykernel_9856\\2562606441.py:1: SettingWithCopyWarning: \n",
      "A value is trying to be set on a copy of a slice from a DataFrame.\n",
      "Try using .loc[row_indexer,col_indexer] = value instead\n",
      "\n",
      "See the caveats in the documentation: https://pandas.pydata.org/pandas-docs/stable/user_guide/indexing.html#returning-a-view-versus-a-copy\n",
      "  finish['сдвиг'] = finish['time in days'] - finish['сдвиг']\n"
     ]
    }
   ],
   "source": [
    "finish['сдвиг'] = finish['time in days'] - finish['сдвиг']"
   ],
   "metadata": {
    "collapsed": false,
    "ExecuteTime": {
     "end_time": "2023-06-25T06:20:44.835462900Z",
     "start_time": "2023-06-25T06:20:44.797900200Z"
    }
   }
  },
  {
   "cell_type": "code",
   "execution_count": 372,
   "outputs": [
    {
     "data": {
      "text/plain": "        obj_key Кодзадачи        НазваниеЗадачи  time in days        сдвиг\n0      020-0684         1  Предпроектные работы    133.535306  -321.464694\n1      019-0589         1  Предпроектные работы    147.136815  -411.863185\n2      019-0594         1  Предпроектные работы    151.986888   -73.013112\n3      021-0458         1  Предпроектные работы    220.390681  -373.609319\n4      017-0520         1  Предпроектные работы    140.941285 -1061.058715\n...         ...       ...                   ...           ...          ...\n64659  023-0135       NaN                   NaN     22.867059          NaN\n64660  021-0049       NaN                   NaN     23.308048          NaN\n64661  021-0050       NaN                   NaN     23.308048          NaN\n64662  022-0707       NaN                   NaN     23.193689          NaN\n64663  022-0630       NaN                   NaN     23.193689          NaN\n\n[64664 rows x 5 columns]",
      "text/html": "<div>\n<style scoped>\n    .dataframe tbody tr th:only-of-type {\n        vertical-align: middle;\n    }\n\n    .dataframe tbody tr th {\n        vertical-align: top;\n    }\n\n    .dataframe thead th {\n        text-align: right;\n    }\n</style>\n<table border=\"1\" class=\"dataframe\">\n  <thead>\n    <tr style=\"text-align: right;\">\n      <th></th>\n      <th>obj_key</th>\n      <th>Кодзадачи</th>\n      <th>НазваниеЗадачи</th>\n      <th>time in days</th>\n      <th>сдвиг</th>\n    </tr>\n  </thead>\n  <tbody>\n    <tr>\n      <th>0</th>\n      <td>020-0684</td>\n      <td>1</td>\n      <td>Предпроектные работы</td>\n      <td>133.535306</td>\n      <td>-321.464694</td>\n    </tr>\n    <tr>\n      <th>1</th>\n      <td>019-0589</td>\n      <td>1</td>\n      <td>Предпроектные работы</td>\n      <td>147.136815</td>\n      <td>-411.863185</td>\n    </tr>\n    <tr>\n      <th>2</th>\n      <td>019-0594</td>\n      <td>1</td>\n      <td>Предпроектные работы</td>\n      <td>151.986888</td>\n      <td>-73.013112</td>\n    </tr>\n    <tr>\n      <th>3</th>\n      <td>021-0458</td>\n      <td>1</td>\n      <td>Предпроектные работы</td>\n      <td>220.390681</td>\n      <td>-373.609319</td>\n    </tr>\n    <tr>\n      <th>4</th>\n      <td>017-0520</td>\n      <td>1</td>\n      <td>Предпроектные работы</td>\n      <td>140.941285</td>\n      <td>-1061.058715</td>\n    </tr>\n    <tr>\n      <th>...</th>\n      <td>...</td>\n      <td>...</td>\n      <td>...</td>\n      <td>...</td>\n      <td>...</td>\n    </tr>\n    <tr>\n      <th>64659</th>\n      <td>023-0135</td>\n      <td>NaN</td>\n      <td>NaN</td>\n      <td>22.867059</td>\n      <td>NaN</td>\n    </tr>\n    <tr>\n      <th>64660</th>\n      <td>021-0049</td>\n      <td>NaN</td>\n      <td>NaN</td>\n      <td>23.308048</td>\n      <td>NaN</td>\n    </tr>\n    <tr>\n      <th>64661</th>\n      <td>021-0050</td>\n      <td>NaN</td>\n      <td>NaN</td>\n      <td>23.308048</td>\n      <td>NaN</td>\n    </tr>\n    <tr>\n      <th>64662</th>\n      <td>022-0707</td>\n      <td>NaN</td>\n      <td>NaN</td>\n      <td>23.193689</td>\n      <td>NaN</td>\n    </tr>\n    <tr>\n      <th>64663</th>\n      <td>022-0630</td>\n      <td>NaN</td>\n      <td>NaN</td>\n      <td>23.193689</td>\n      <td>NaN</td>\n    </tr>\n  </tbody>\n</table>\n<p>64664 rows × 5 columns</p>\n</div>"
     },
     "execution_count": 372,
     "metadata": {},
     "output_type": "execute_result"
    }
   ],
   "source": [
    "finish"
   ],
   "metadata": {
    "collapsed": false,
    "ExecuteTime": {
     "end_time": "2023-06-25T06:21:11.056334700Z",
     "start_time": "2023-06-25T06:21:11.027847100Z"
    }
   }
  },
  {
   "cell_type": "code",
   "execution_count": 374,
   "outputs": [],
   "source": [
    "finish.to_excel('test_predictions.xlsx')"
   ],
   "metadata": {
    "collapsed": false,
    "ExecuteTime": {
     "end_time": "2023-06-25T06:21:58.980597100Z",
     "start_time": "2023-06-25T06:21:37.542980900Z"
    }
   }
  },
  {
   "cell_type": "code",
   "execution_count": 373,
   "outputs": [],
   "source": [],
   "metadata": {
    "collapsed": false,
    "ExecuteTime": {
     "end_time": "2023-06-25T06:21:35.946522800Z",
     "start_time": "2023-06-25T06:21:35.878356900Z"
    }
   }
  },
  {
   "cell_type": "code",
   "execution_count": null,
   "outputs": [],
   "source": [],
   "metadata": {
    "collapsed": false
   }
  }
 ],
 "metadata": {
  "kernelspec": {
   "name": "python3",
   "language": "python",
   "display_name": "Python 3 (ipykernel)"
  },
  "datalore": {
   "computation_mode": "JUPYTER",
   "package_manager": "pip",
   "base_environment": "default",
   "packages": [],
   "report_row_ids": [],
   "version": 3
  }
 },
 "nbformat": 4,
 "nbformat_minor": 4
}
